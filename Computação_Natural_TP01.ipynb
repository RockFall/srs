{
  "cells": [
    {
      "attachments": {},
      "cell_type": "markdown",
      "metadata": {
        "id": "DpmpPkdxkoU_"
      },
      "source": [
        "## Download the Data"
      ]
    },
    {
      "cell_type": "code",
      "execution_count": 4,
      "metadata": {
        "id": "miTjA44YkmyA"
      },
      "outputs": [],
      "source": [
        "import urllib.request\n",
        "import zipfile\n",
        "import os\n",
        "import numpy as np\n",
        "\n",
        "def download_datasets():\n",
        "    # Download the folder\n",
        "    !gdown --folder 1579owXfSSeM8FZq3DdoauCUofMCahdzV\n",
        "\n",
        "    # Find all CSV files in the datasets folders\n",
        "    csv_files = []\n",
        "    for root, dirs, files in os.walk(\"datasets\"):\n",
        "        for file in files:\n",
        "            if file.endswith(\".csv\"):\n",
        "                csv_files.append(os.path.join(root, file))\n",
        "\n",
        "    # Load the CSV files as numpy matrices\n",
        "    datasets = {}\n",
        "    for file in csv_files:\n",
        "        matrix = np.loadtxt(file, delimiter=\",\")\n",
        "        file_name = os.path.basename(file).split('.')[0]\n",
        "        datasets[file_name] = matrix\n",
        "\n",
        "    return datasets"
      ]
    },
    {
      "cell_type": "code",
      "execution_count": 5,
      "metadata": {
        "colab": {
          "base_uri": "https://localhost:8080/"
        },
        "id": "Ajx_q_Dskrku",
        "outputId": "717f9588-b294-4e36-c1a6-98c465edd6f3"
      },
      "outputs": [
        {
          "name": "stdout",
          "output_type": "stream",
          "text": [
            "Retrieving folder list\n",
            "Processing file 1uInvZ0oug5wAOcBHWc1WT3JMUFWsM95H .DS_Store\n",
            "Retrieving folder 1pujZYM8Lc9oEZhBvyv_U_WJ7YB25hjWA concrete\n",
            "Processing file 19zsGCG9lulysdOeYhljjfZAZ8hpyvdU1 concrete-test.csv\n",
            "Processing file 1COSlcnzXPzYBJOMnQhNknG0w02SkJs5Q concrete-train.csv\n",
            "Retrieving folder 146_OyoT-zTjaoD-usJ-vA6N1OxT91i2n synth1\n",
            "Processing file 1PM1_BjetTjhEFnnrxWVzgo11T8SXc9-7 synth1-test.csv\n",
            "Processing file 1mFIU2jNTQYm7QOJRKFmB7iYGxCzf_Bpb synth1-train.csv\n",
            "Retrieving folder 1tk_P3AVPamlx-EPgSHNylezwiY42BDTj synth2\n",
            "Processing file 1qvN1jK21Ls4Y1-BkfASlGDNOzGe7QEld synth2-test.csv\n",
            "Processing file 1LXMTakd6DfcujHD3IVrrwOjHDHlk1JyT synth2-train.csv\n",
            "Retrieving folder list completed\n",
            "Building directory structure\n",
            "Building directory structure completed\n",
            "Downloading...\n",
            "From: https://drive.google.com/uc?id=1uInvZ0oug5wAOcBHWc1WT3JMUFWsM95H\n",
            "To: /content/datasets/.DS_Store\n",
            "100% 6.15k/6.15k [00:00<00:00, 21.2MB/s]\n",
            "Downloading...\n",
            "From: https://drive.google.com/uc?id=19zsGCG9lulysdOeYhljjfZAZ8hpyvdU1\n",
            "To: /content/datasets/concrete/concrete-test.csv\n",
            "100% 7.96k/7.96k [00:00<00:00, 35.1MB/s]\n",
            "Downloading...\n",
            "From: https://drive.google.com/uc?id=1COSlcnzXPzYBJOMnQhNknG0w02SkJs5Q\n",
            "To: /content/datasets/concrete/concrete-train.csv\n",
            "100% 32.4k/32.4k [00:00<00:00, 90.5MB/s]\n",
            "Downloading...\n",
            "From: https://drive.google.com/uc?id=1PM1_BjetTjhEFnnrxWVzgo11T8SXc9-7\n",
            "To: /content/datasets/synth1/synth1-test.csv\n",
            "100% 34.5k/34.5k [00:00<00:00, 89.6MB/s]\n",
            "Downloading...\n",
            "From: https://drive.google.com/uc?id=1mFIU2jNTQYm7QOJRKFmB7iYGxCzf_Bpb\n",
            "To: /content/datasets/synth1/synth1-train.csv\n",
            "100% 3.44k/3.44k [00:00<00:00, 20.7MB/s]\n",
            "Downloading...\n",
            "From: https://drive.google.com/uc?id=1qvN1jK21Ls4Y1-BkfASlGDNOzGe7QEld\n",
            "To: /content/datasets/synth2/synth2-test.csv\n",
            "100% 39.6k/39.6k [00:00<00:00, 65.6MB/s]\n",
            "Downloading...\n",
            "From: https://drive.google.com/uc?id=1LXMTakd6DfcujHD3IVrrwOjHDHlk1JyT\n",
            "To: /content/datasets/synth2/synth2-train.csv\n",
            "100% 11.8k/11.8k [00:00<00:00, 28.4MB/s]\n",
            "Download completed\n"
          ]
        }
      ],
      "source": [
        "datasets = download_datasets()"
      ]
    },
    {
      "attachments": {},
      "cell_type": "markdown",
      "metadata": {
        "id": "JEntI4N0ncxW"
      },
      "source": [
        "# Decisões de Implementação\n",
        "\n",
        "1. **Representação de um indivíduo (genótipo):**\n",
        "##### Árvore de expressão, na qual os nós internos são operadores (como adição, subtração, multiplicação e divisão) e os nós folhas são terminais (variáveis e constantes).\n",
        "\n",
        "2. **Geração da população inicial:**\n",
        "##### A população inicial é gerada aleatoriamente, com árvores de expressão de diferentes tamanhos e formas. Define-se uma profundidade máxima permitida para as árvores. Para adicionar diversidade à população inicial, utiliza-se uma combinação de métodos de geração, como o método de crescimento completo e o método de crescimento rampa.\n",
        "\n",
        "3. **Operadores genéticos:**\n",
        "##### A reprodução envolve a cópia direta de um indivíduo selecionado para a próxima geração. O cruzamento consiste em escolher dois indivíduos e trocar uma subárvore entre eles, criando dois novos indivíduos. A mutação envolve a alteração aleatória de um nó em uma árvore, substituindo-o por outro nó compatível (um operador por outro operador, ou um terminal por outro terminal).\n",
        "\n",
        "4. **Facilidades para variação de parâmetros:**\n",
        "##### Em vez de usar parâmetros hardcoded, foi criado uma configuração centralizada, (uma estrutura de configuração), que pode ser facilmente alterada. Isso permitirá o ajuste dos parâmetros, como a taxa de cruzamento, a taxa de mutação, o tamanho da população, o número máximo de gerações e a profundidade máxima da árvore, sem modificar o código principal. Essa abordagem facilita a análise de sensibilidade dos parâmetros e a avaliação das soluções alcançadas."
      ]
    },
    {
      "attachments": {},
      "cell_type": "markdown",
      "metadata": {
        "id": "yjA_LTn2otzQ"
      },
      "source": [
        "# Tentativo 1 de Implementação\n"
      ]
    },
    {
      "cell_type": "code",
      "execution_count": 3,
      "metadata": {},
      "outputs": [
        {
          "name": "stdout",
          "output_type": "stream",
          "text": [
            "Collecting numpy\n",
            "  Downloading numpy-1.24.3-cp310-cp310-manylinux_2_17_x86_64.manylinux2014_x86_64.whl (17.3 MB)\n",
            "\u001b[2K     \u001b[90m━━━━━━━━━━━━━━━━━━━━━━━━━━━━━━━━━━━━━━━━\u001b[0m \u001b[32m17.3/17.3 MB\u001b[0m \u001b[31m34.1 MB/s\u001b[0m eta \u001b[36m0:00:00\u001b[0m00:01\u001b[0m00:01\u001b[0m\n",
            "\u001b[?25hInstalling collected packages: numpy\n",
            "Successfully installed numpy-1.24.3\n",
            "Note: you may need to restart the kernel to use updated packages.\n"
          ]
        }
      ],
      "source": [
        "pip install numpy"
      ]
    },
    {
      "cell_type": "code",
      "execution_count": 4,
      "metadata": {
        "id": "n9VNaBAqpZqh"
      },
      "outputs": [],
      "source": [
        "import random\n",
        "import operator\n",
        "import numpy as np"
      ]
    },
    {
      "attachments": {},
      "cell_type": "markdown",
      "metadata": {
        "id": "TmGpUqH0pbv0"
      },
      "source": [
        "### **Node**"
      ]
    },
    {
      "cell_type": "code",
      "execution_count": 31,
      "metadata": {
        "id": "_vWDpQG46ndf"
      },
      "outputs": [],
      "source": [
        "class Node:\n",
        "    def __init__(self, value):\n",
        "        self.value = value\n",
        "        self.left = None\n",
        "        self.right = None\n",
        "\n",
        "class Tree:\n",
        "    def __init__(self, max_depth, terminals, operators):\n",
        "        self.root = None\n",
        "        self.max_depth = max_depth\n",
        "        self.terminals = terminals\n",
        "        self.operators = operators\n",
        "    \n",
        "    def generate_random_tree(self, depth):\n",
        "        if depth >= self.max_depth:\n",
        "            return Node(random.choice(self.terminals))\n",
        "        \n",
        "        node = Node(random.choice(self.operators))\n",
        "        node.left = self.generate_random_tree(depth+1)\n",
        "        node.right = self.generate_random_tree(depth+1)\n",
        "        return node\n",
        "        \n",
        "    def evaluate(self, x_values):\n",
        "        return self._evaluate_node(self.root, x_values)\n",
        "    \n",
        "    def _evaluate_node(self, node, x_values):\n",
        "        if node is None:\n",
        "            return 0.0\n",
        "        \n",
        "        if isinstance(node.value, str):\n",
        "            if node.value in self.terminals:\n",
        "                return x_values[self.terminals.index(node.value)]\n",
        "            else:\n",
        "                return 0.0\n",
        "        \n",
        "        left_val = self._evaluate_node(node.left, x_values)\n",
        "        right_val = self._evaluate_node(node.right, x_values)\n",
        "        \n",
        "        if node.value == '+':\n",
        "            return left_val + right_val\n",
        "        elif node.value == '-':\n",
        "            return left_val - right_val\n",
        "        elif node.value == '*':\n",
        "            return left_val * right_val\n",
        "        elif node.value == '/':\n",
        "            if right_val != 0.0:\n",
        "                return left_val / right_val\n",
        "            else:\n",
        "                return 0.0\n",
        "        \n",
        "        return 0.0\n",
        "    \n",
        "    def infix_expression(self):\n",
        "        return self._infix_expression_node(self.root)\n",
        "    \n",
        "    def _infix_expression_node(self, node):\n",
        "        if isinstance(node.value, str):\n",
        "            return node.value\n",
        "        \n",
        "        left_expr = self._infix_expression_node(node.left)\n",
        "        right_expr = self._infix_expression_node(node.right)\n",
        "        \n",
        "        if node.value == '+':\n",
        "            return '(' + left_expr + ' + ' + right_expr + ')'\n",
        "        elif node.value == '-':\n",
        "            return '(' + left_expr + ' - ' + right_expr + ')'\n",
        "        elif node.value == '*':\n",
        "            return '(' + left_expr + ' * ' + right_expr + ')'\n",
        "        elif node.value == '/':\n",
        "            return '(' + left_expr + ' / ' + right_expr + ')'\n",
        "        \n",
        "        return ''\n"
      ]
    },
    {
      "cell_type": "code",
      "execution_count": 49,
      "metadata": {
        "id": "MAwae1Nm6oO2"
      },
      "outputs": [],
      "source": [
        "t = Tree(4, [\"x\"], [\"+\", \"-\"])\n",
        "t.root = t.generate_random_tree(4)"
      ]
    },
    {
      "cell_type": "code",
      "execution_count": 50,
      "metadata": {
        "colab": {
          "base_uri": "https://localhost:8080/",
          "height": 35
        },
        "id": "jPsjrriH7Z_2",
        "outputId": "321bfbee-ce2a-4cc6-dd7d-ae49e1ec90d3"
      },
      "outputs": [
        {
          "data": {
            "application/vnd.google.colaboratory.intrinsic+json": {
              "type": "string"
            },
            "text/plain": [
              "'x'"
            ]
          },
          "execution_count": 50,
          "metadata": {},
          "output_type": "execute_result"
        }
      ],
      "source": [
        "t.infix_expression()"
      ]
    },
    {
      "cell_type": "code",
      "execution_count": null,
      "metadata": {
        "id": "wg5RxCtb61Kt"
      },
      "outputs": [],
      "source": [
        "t"
      ]
    },
    {
      "cell_type": "code",
      "execution_count": 103,
      "metadata": {
        "colab": {
          "base_uri": "https://localhost:8080/",
          "height": 235
        },
        "id": "PITK80eO5Fjv",
        "outputId": "48520a4d-d5d7-4b9d-d428-654fde12bf6f"
      },
      "outputs": [
        {
          "ename": "NameError",
          "evalue": "ignored",
          "output_type": "error",
          "traceback": [
            "\u001b[0;31m---------------------------------------------------------------------------\u001b[0m",
            "\u001b[0;31mNameError\u001b[0m                                 Traceback (most recent call last)",
            "\u001b[0;32m<ipython-input-103-7fdf2b42fb2b>\u001b[0m in \u001b[0;36m<cell line: 63>\u001b[0;34m()\u001b[0m\n\u001b[1;32m     61\u001b[0m \u001b[0mconstants\u001b[0m \u001b[0;34m=\u001b[0m \u001b[0;34m[\u001b[0m\u001b[0;34m\"a\"\u001b[0m\u001b[0;34m,\u001b[0m \u001b[0;34m\"b\"\u001b[0m\u001b[0;34m]\u001b[0m\u001b[0;34m\u001b[0m\u001b[0;34m\u001b[0m\u001b[0m\n\u001b[1;32m     62\u001b[0m \u001b[0;34m\u001b[0m\u001b[0m\n\u001b[0;32m---> 63\u001b[0;31m \u001b[0mCONSTANT_RATE\u001b[0m\u001b[0;34m\u001b[0m\u001b[0;34m\u001b[0m\u001b[0m\n\u001b[0m\u001b[1;32m     64\u001b[0m \u001b[0mFUNCTION_RATE\u001b[0m \u001b[0;34m=\u001b[0m \u001b[0;36m0\u001b[0m\u001b[0;34m\u001b[0m\u001b[0;34m\u001b[0m\u001b[0m\n\u001b[1;32m     65\u001b[0m \u001b[0;34m\u001b[0m\u001b[0m\n",
            "\u001b[0;31mNameError\u001b[0m: name 'CONSTANT_RATE' is not defined"
          ]
        }
      ],
      "source": [
        "import random\n",
        "import math\n",
        "\n",
        "# define the non-terminal symbols\n",
        "class Expr:\n",
        "    def __init__(self, left, op, right):\n",
        "        self.left = left\n",
        "        self.op = op\n",
        "        self.right = right\n",
        "        \n",
        "    def evaluate(self, variables):\n",
        "        left_value = self.left.evaluate(variables)\n",
        "        right_value = self.right.evaluate(variables)\n",
        "        if self.op == \"+\":\n",
        "            return left_value + right_value\n",
        "        elif self.op == \"-\":\n",
        "            return left_value - right_value\n",
        "        elif self.op == \"*\":\n",
        "            return left_value * right_value\n",
        "        elif self.op == \"/\":\n",
        "            return left_value / right_value\n",
        "        else:\n",
        "            raise ValueError(f\"Unknown operator: {self.op}\")\n",
        "\n",
        "class Func:\n",
        "    def __init__(self, name, arg):\n",
        "        self.name = name\n",
        "        self.arg = arg\n",
        "        \n",
        "    def evaluate(self, variables):\n",
        "        arg_value = self.arg.evaluate(variables)\n",
        "        if self.name == \"sin\":\n",
        "            return math.sin(arg_value)\n",
        "        elif self.name == \"cos\":\n",
        "            return math.cos(arg_value)\n",
        "        elif self.name == \"exp\":\n",
        "            return math.exp(arg_value)\n",
        "        elif self.name == \"log\":\n",
        "            return math.log(arg_value)\n",
        "        else:\n",
        "            raise ValueError(f\"Unknown function: {self.name}\")\n",
        "        \n",
        "class Var:\n",
        "    def __init__(self, name):\n",
        "        self.name = name\n",
        "        \n",
        "    def evaluate(self, variables):\n",
        "        return variables[self.name]\n",
        "        \n",
        "class Constant:\n",
        "    def __init__(self, value):\n",
        "        self.value = value\n",
        "        \n",
        "    def evaluate(self, variables):\n",
        "        return self.value\n",
        "\n",
        "# define the terminal symbols\n",
        "operators = [\"+\", \"-\", \"*\", \"/\"]\n",
        "functions = [\"sin\", \"cos\", \"exp\", \"log\"]\n",
        "variables = [\"x1\", \"x2\"]\n",
        "constants = [\"a\", \"b\", \"c\"]\n",
        "\n",
        "CONSTANT_RATE = 0.5\n",
        "FUNCTION_RATE = 0\n",
        "\n",
        "# define the production rules\n",
        "def generate_expr(depth):\n",
        "    if depth <= 0:\n",
        "        if random.random() < CONSTANT_RATE:\n",
        "          return Constant(random.uniform(-10, 10))\n",
        "        else:\n",
        "          return Var(\"x\")\n",
        "    elif random.random() < FUNCTION_RATE:\n",
        "        name = random.choice(functions)\n",
        "        arg = generate_expr(depth-1)\n",
        "        return Func(name, arg)\n",
        "    else:\n",
        "        left = generate_expr(depth-1)\n",
        "        op = random.choice(operators)\n",
        "        right = generate_expr(depth-1)\n",
        "\n",
        "        return Expr(left, op, right)\n",
        "\n",
        "def generate_expr_iter(depth, variables):\n",
        "    stack = []\n",
        "    for i in range(depth):\n",
        "        if random.random() < FUNCTION_RATE:\n",
        "            name = random.choice(functions)\n",
        "            arg = stack.pop()\n",
        "            stack.append(Func(name, arg))\n",
        "        else:\n",
        "            if random.random() < CONSTANT_RATE:\n",
        "                stack.append(Constant(random.uniform(-10, 10)))\n",
        "            else:\n",
        "                stack.append(Var(random.choice(variables)))\n",
        "            while len(stack) > 1:\n",
        "                right = stack.pop()\n",
        "                left = stack.pop()\n",
        "                op = random.choice(operators)\n",
        "                stack.append(Expr(left, op, right))\n",
        "    return stack[0]\n",
        "\n",
        "\n",
        "def generate_var():\n",
        "    return Var(random.choice(variables))\n",
        "\n",
        "def generate_constant():\n",
        "    return Constant(random.uniform(-10, 10))\n",
        "\n",
        "# define the start symbol\n",
        "def generate_individual(depth):\n",
        "    return generate_expr(depth)\n"
      ]
    },
    {
      "cell_type": "code",
      "execution_count": 62,
      "metadata": {
        "id": "UXDqZyQtDwKI"
      },
      "outputs": [],
      "source": [
        "def print_individual(individual):\n",
        "    if isinstance(individual, Expr):\n",
        "        left_str = print_individual(individual.left)\n",
        "        right_str = print_individual(individual.right)\n",
        "        return f\"({left_str} {individual.op} {right_str})\"\n",
        "    elif isinstance(individual, Func):\n",
        "        arg_str = print_individual(individual.arg)\n",
        "        return f\"{individual.name}({arg_str})\"\n",
        "    elif isinstance(individual, Var):\n",
        "        return individual.name\n",
        "    elif isinstance(individual, Constant):\n",
        "        return str(individual.value)\n",
        "    else:\n",
        "        raise ValueError(f\"Unknown individual type: {type(individual)}\")\n"
      ]
    },
    {
      "cell_type": "code",
      "execution_count": 101,
      "metadata": {
        "colab": {
          "base_uri": "https://localhost:8080/"
        },
        "id": "eRATHNISDYdg",
        "outputId": "97a17356-74c9-4ea9-f72a-aacd381429a1"
      },
      "outputs": [
        {
          "name": "stdout",
          "output_type": "stream",
          "text": [
            "-\n",
            "-\n",
            "/\n"
          ]
        },
        {
          "data": {
            "text/plain": [
              "<__main__.Expr at 0x7f39c37c8820>"
            ]
          },
          "execution_count": 101,
          "metadata": {},
          "output_type": "execute_result"
        }
      ],
      "source": [
        "# test the grammar\n",
        "individual = generate_individual(2)\n",
        "individual"
      ]
    },
    {
      "cell_type": "code",
      "execution_count": 68,
      "metadata": {
        "colab": {
          "base_uri": "https://localhost:8080/"
        },
        "id": "QQa8-MDc5GUo",
        "outputId": "fb219ce7-d431-49ee-d8a5-2580711a36c0"
      },
      "outputs": [
        {
          "name": "stdout",
          "output_type": "stream",
          "text": [
            "17.18067094813396\n"
          ]
        }
      ],
      "source": [
        "variables = {\"x1\": 1, \"x2\": 1, \"x3\": 1, \"x4\": 1, \"x5\": 1}\n",
        "print(individual.evaluate(variables))"
      ]
    },
    {
      "cell_type": "code",
      "execution_count": 102,
      "metadata": {
        "colab": {
          "base_uri": "https://localhost:8080/",
          "height": 35
        },
        "id": "xCXVBbe1Dyj3",
        "outputId": "40702ab1-607d-4a28-dd46-3085285a0efd"
      },
      "outputs": [
        {
          "data": {
            "application/vnd.google.colaboratory.intrinsic+json": {
              "type": "string"
            },
            "text/plain": [
              "'((x - x) - (x / x))'"
            ]
          },
          "execution_count": 102,
          "metadata": {},
          "output_type": "execute_result"
        }
      ],
      "source": [
        "print_individual(individual)"
      ]
    },
    {
      "cell_type": "code",
      "execution_count": 52,
      "metadata": {
        "id": "VeLP0spACTdA"
      },
      "outputs": [],
      "source": [
        "X = [[1, 1, 2], [2, 2, 4]]"
      ]
    },
    {
      "cell_type": "code",
      "execution_count": 53,
      "metadata": {
        "id": "TTIxyTACCKbA"
      },
      "outputs": [],
      "source": [
        "expr = Expr(None, \"+\", None)"
      ]
    },
    {
      "cell_type": "code",
      "execution_count": 54,
      "metadata": {
        "colab": {
          "base_uri": "https://localhost:8080/",
          "height": 287
        },
        "id": "6JFotaYSCYho",
        "outputId": "98161640-d95c-4292-d753-009aa1cc16f1"
      },
      "outputs": [
        {
          "ename": "AttributeError",
          "evalue": "ignored",
          "output_type": "error",
          "traceback": [
            "\u001b[0;31m---------------------------------------------------------------------------\u001b[0m",
            "\u001b[0;31mAttributeError\u001b[0m                            Traceback (most recent call last)",
            "\u001b[0;32m<ipython-input-54-7f79b685ddfb>\u001b[0m in \u001b[0;36m<cell line: 1>\u001b[0;34m()\u001b[0m\n\u001b[0;32m----> 1\u001b[0;31m \u001b[0mexpr\u001b[0m\u001b[0;34m.\u001b[0m\u001b[0mevaluate\u001b[0m\u001b[0;34m(\u001b[0m\u001b[0mX\u001b[0m\u001b[0;34m[\u001b[0m\u001b[0;36m0\u001b[0m\u001b[0;34m]\u001b[0m\u001b[0;34m)\u001b[0m\u001b[0;34m\u001b[0m\u001b[0;34m\u001b[0m\u001b[0m\n\u001b[0m",
            "\u001b[0;32m<ipython-input-51-b91d5f8a2185>\u001b[0m in \u001b[0;36mevaluate\u001b[0;34m(self, variables)\u001b[0m\n\u001b[1;32m      6\u001b[0m \u001b[0;34m\u001b[0m\u001b[0m\n\u001b[1;32m      7\u001b[0m     \u001b[0;32mdef\u001b[0m \u001b[0mevaluate\u001b[0m\u001b[0;34m(\u001b[0m\u001b[0mself\u001b[0m\u001b[0;34m,\u001b[0m \u001b[0mvariables\u001b[0m\u001b[0;34m)\u001b[0m\u001b[0;34m:\u001b[0m\u001b[0;34m\u001b[0m\u001b[0;34m\u001b[0m\u001b[0m\n\u001b[0;32m----> 8\u001b[0;31m         \u001b[0mleft_value\u001b[0m \u001b[0;34m=\u001b[0m \u001b[0mself\u001b[0m\u001b[0;34m.\u001b[0m\u001b[0mleft\u001b[0m\u001b[0;34m.\u001b[0m\u001b[0mevaluate\u001b[0m\u001b[0;34m(\u001b[0m\u001b[0mvariables\u001b[0m\u001b[0;34m)\u001b[0m\u001b[0;34m\u001b[0m\u001b[0;34m\u001b[0m\u001b[0m\n\u001b[0m\u001b[1;32m      9\u001b[0m         \u001b[0mright_value\u001b[0m \u001b[0;34m=\u001b[0m \u001b[0mself\u001b[0m\u001b[0;34m.\u001b[0m\u001b[0mright\u001b[0m\u001b[0;34m.\u001b[0m\u001b[0mevaluate\u001b[0m\u001b[0;34m(\u001b[0m\u001b[0mvariables\u001b[0m\u001b[0;34m)\u001b[0m\u001b[0;34m\u001b[0m\u001b[0;34m\u001b[0m\u001b[0m\n\u001b[1;32m     10\u001b[0m         \u001b[0;32mif\u001b[0m \u001b[0mself\u001b[0m\u001b[0;34m.\u001b[0m\u001b[0mop\u001b[0m \u001b[0;34m==\u001b[0m \u001b[0;34m\"+\"\u001b[0m\u001b[0;34m:\u001b[0m\u001b[0;34m\u001b[0m\u001b[0;34m\u001b[0m\u001b[0m\n",
            "\u001b[0;31mAttributeError\u001b[0m: 'NoneType' object has no attribute 'evaluate'"
          ]
        }
      ],
      "source": [
        "expr.evaluate(X[0])"
      ]
    },
    {
      "cell_type": "code",
      "execution_count": 14,
      "metadata": {
        "id": "G2kpxxNqpaHU"
      },
      "outputs": [],
      "source": [
        "# Nó da árvore de expressão\n",
        "class Node:\n",
        "    def __init__(self, function=None, value=None):\n",
        "        self.function = function\n",
        "        self.value = value\n",
        "        self.children = []\n",
        "\n",
        "    def evaluate(self, x):\n",
        "        if self.function:\n",
        "            return self.function(*[child.evaluate(x) for child in self.children])\n",
        "        else:\n",
        "            return self.value(x)"
      ]
    },
    {
      "cell_type": "code",
      "execution_count": 21,
      "metadata": {
        "colab": {
          "base_uri": "https://localhost:8080/"
        },
        "id": "IeKwBQEJ2fWg",
        "outputId": "d9ef8380-7065-4656-cfe5-2118bbe7271a"
      },
      "outputs": [
        {
          "name": "stdout",
          "output_type": "stream",
          "text": [
            "(((x1 + x2) * (x3 + x4)) / x5) = 0\n"
          ]
        }
      ],
      "source": [
        "expression = generate_random_expression(depth=3)\n",
        "expression_string = print_expression(expression)\n",
        "print(expression_string)"
      ]
    },
    {
      "cell_type": "code",
      "execution_count": 25,
      "metadata": {
        "colab": {
          "base_uri": "https://localhost:8080/",
          "height": 311
        },
        "id": "hBqHLoW22sTR",
        "outputId": "b4df14a6-0d98-419b-a5ae-04fd5db84d76"
      },
      "outputs": [
        {
          "ename": "TypeError",
          "evalue": "ignored",
          "output_type": "error",
          "traceback": [
            "\u001b[0;31m---------------------------------------------------------------------------\u001b[0m",
            "\u001b[0;31mTypeError\u001b[0m                                 Traceback (most recent call last)",
            "\u001b[0;32m<ipython-input-25-3a2142dce0da>\u001b[0m in \u001b[0;36m<cell line: 1>\u001b[0;34m()\u001b[0m\n\u001b[0;32m----> 1\u001b[0;31m \u001b[0mexpression\u001b[0m\u001b[0;34m.\u001b[0m\u001b[0mevaluate\u001b[0m\u001b[0;34m(\u001b[0m\u001b[0;34m[\u001b[0m\u001b[0;36m1\u001b[0m\u001b[0;34m,\u001b[0m\u001b[0;36m1\u001b[0m\u001b[0;34m,\u001b[0m\u001b[0;36m1\u001b[0m\u001b[0;34m,\u001b[0m\u001b[0;36m1\u001b[0m\u001b[0;34m,\u001b[0m\u001b[0;36m2\u001b[0m\u001b[0;34m]\u001b[0m\u001b[0;34m)\u001b[0m\u001b[0;34m\u001b[0m\u001b[0;34m\u001b[0m\u001b[0m\n\u001b[0m",
            "\u001b[0;32m<ipython-input-14-12083d0e6ffc>\u001b[0m in \u001b[0;36mevaluate\u001b[0;34m(self, x)\u001b[0m\n\u001b[1;32m      8\u001b[0m     \u001b[0;32mdef\u001b[0m \u001b[0mevaluate\u001b[0m\u001b[0;34m(\u001b[0m\u001b[0mself\u001b[0m\u001b[0;34m,\u001b[0m \u001b[0mx\u001b[0m\u001b[0;34m)\u001b[0m\u001b[0;34m:\u001b[0m\u001b[0;34m\u001b[0m\u001b[0;34m\u001b[0m\u001b[0m\n\u001b[1;32m      9\u001b[0m         \u001b[0;32mif\u001b[0m \u001b[0mself\u001b[0m\u001b[0;34m.\u001b[0m\u001b[0mfunction\u001b[0m\u001b[0;34m:\u001b[0m\u001b[0;34m\u001b[0m\u001b[0;34m\u001b[0m\u001b[0m\n\u001b[0;32m---> 10\u001b[0;31m             \u001b[0;32mreturn\u001b[0m \u001b[0mself\u001b[0m\u001b[0;34m.\u001b[0m\u001b[0mfunction\u001b[0m\u001b[0;34m(\u001b[0m\u001b[0;34m*\u001b[0m\u001b[0;34m[\u001b[0m\u001b[0mchild\u001b[0m\u001b[0;34m.\u001b[0m\u001b[0mevaluate\u001b[0m\u001b[0;34m(\u001b[0m\u001b[0mx\u001b[0m\u001b[0;34m)\u001b[0m \u001b[0;32mfor\u001b[0m \u001b[0mchild\u001b[0m \u001b[0;32min\u001b[0m \u001b[0mself\u001b[0m\u001b[0;34m.\u001b[0m\u001b[0mchildren\u001b[0m\u001b[0;34m]\u001b[0m\u001b[0;34m)\u001b[0m\u001b[0;34m\u001b[0m\u001b[0;34m\u001b[0m\u001b[0m\n\u001b[0m\u001b[1;32m     11\u001b[0m         \u001b[0;32melse\u001b[0m\u001b[0;34m:\u001b[0m\u001b[0;34m\u001b[0m\u001b[0;34m\u001b[0m\u001b[0m\n\u001b[1;32m     12\u001b[0m             \u001b[0;32mreturn\u001b[0m \u001b[0mself\u001b[0m\u001b[0;34m.\u001b[0m\u001b[0mvalue\u001b[0m\u001b[0;34m(\u001b[0m\u001b[0mx\u001b[0m\u001b[0;34m)\u001b[0m\u001b[0;34m\u001b[0m\u001b[0;34m\u001b[0m\u001b[0m\n",
            "\u001b[0;32m<ipython-input-14-12083d0e6ffc>\u001b[0m in \u001b[0;36m<listcomp>\u001b[0;34m(.0)\u001b[0m\n\u001b[1;32m      8\u001b[0m     \u001b[0;32mdef\u001b[0m \u001b[0mevaluate\u001b[0m\u001b[0;34m(\u001b[0m\u001b[0mself\u001b[0m\u001b[0;34m,\u001b[0m \u001b[0mx\u001b[0m\u001b[0;34m)\u001b[0m\u001b[0;34m:\u001b[0m\u001b[0;34m\u001b[0m\u001b[0;34m\u001b[0m\u001b[0m\n\u001b[1;32m      9\u001b[0m         \u001b[0;32mif\u001b[0m \u001b[0mself\u001b[0m\u001b[0;34m.\u001b[0m\u001b[0mfunction\u001b[0m\u001b[0;34m:\u001b[0m\u001b[0;34m\u001b[0m\u001b[0;34m\u001b[0m\u001b[0m\n\u001b[0;32m---> 10\u001b[0;31m             \u001b[0;32mreturn\u001b[0m \u001b[0mself\u001b[0m\u001b[0;34m.\u001b[0m\u001b[0mfunction\u001b[0m\u001b[0;34m(\u001b[0m\u001b[0;34m*\u001b[0m\u001b[0;34m[\u001b[0m\u001b[0mchild\u001b[0m\u001b[0;34m.\u001b[0m\u001b[0mevaluate\u001b[0m\u001b[0;34m(\u001b[0m\u001b[0mx\u001b[0m\u001b[0;34m)\u001b[0m \u001b[0;32mfor\u001b[0m \u001b[0mchild\u001b[0m \u001b[0;32min\u001b[0m \u001b[0mself\u001b[0m\u001b[0;34m.\u001b[0m\u001b[0mchildren\u001b[0m\u001b[0;34m]\u001b[0m\u001b[0;34m)\u001b[0m\u001b[0;34m\u001b[0m\u001b[0;34m\u001b[0m\u001b[0m\n\u001b[0m\u001b[1;32m     11\u001b[0m         \u001b[0;32melse\u001b[0m\u001b[0;34m:\u001b[0m\u001b[0;34m\u001b[0m\u001b[0;34m\u001b[0m\u001b[0m\n\u001b[1;32m     12\u001b[0m             \u001b[0;32mreturn\u001b[0m \u001b[0mself\u001b[0m\u001b[0;34m.\u001b[0m\u001b[0mvalue\u001b[0m\u001b[0;34m(\u001b[0m\u001b[0mx\u001b[0m\u001b[0;34m)\u001b[0m\u001b[0;34m\u001b[0m\u001b[0;34m\u001b[0m\u001b[0m\n",
            "\u001b[0;32m<ipython-input-14-12083d0e6ffc>\u001b[0m in \u001b[0;36mevaluate\u001b[0;34m(self, x)\u001b[0m\n\u001b[1;32m      8\u001b[0m     \u001b[0;32mdef\u001b[0m \u001b[0mevaluate\u001b[0m\u001b[0;34m(\u001b[0m\u001b[0mself\u001b[0m\u001b[0;34m,\u001b[0m \u001b[0mx\u001b[0m\u001b[0;34m)\u001b[0m\u001b[0;34m:\u001b[0m\u001b[0;34m\u001b[0m\u001b[0;34m\u001b[0m\u001b[0m\n\u001b[1;32m      9\u001b[0m         \u001b[0;32mif\u001b[0m \u001b[0mself\u001b[0m\u001b[0;34m.\u001b[0m\u001b[0mfunction\u001b[0m\u001b[0;34m:\u001b[0m\u001b[0;34m\u001b[0m\u001b[0;34m\u001b[0m\u001b[0m\n\u001b[0;32m---> 10\u001b[0;31m             \u001b[0;32mreturn\u001b[0m \u001b[0mself\u001b[0m\u001b[0;34m.\u001b[0m\u001b[0mfunction\u001b[0m\u001b[0;34m(\u001b[0m\u001b[0;34m*\u001b[0m\u001b[0;34m[\u001b[0m\u001b[0mchild\u001b[0m\u001b[0;34m.\u001b[0m\u001b[0mevaluate\u001b[0m\u001b[0;34m(\u001b[0m\u001b[0mx\u001b[0m\u001b[0;34m)\u001b[0m \u001b[0;32mfor\u001b[0m \u001b[0mchild\u001b[0m \u001b[0;32min\u001b[0m \u001b[0mself\u001b[0m\u001b[0;34m.\u001b[0m\u001b[0mchildren\u001b[0m\u001b[0;34m]\u001b[0m\u001b[0;34m)\u001b[0m\u001b[0;34m\u001b[0m\u001b[0;34m\u001b[0m\u001b[0m\n\u001b[0m\u001b[1;32m     11\u001b[0m         \u001b[0;32melse\u001b[0m\u001b[0;34m:\u001b[0m\u001b[0;34m\u001b[0m\u001b[0;34m\u001b[0m\u001b[0m\n\u001b[1;32m     12\u001b[0m             \u001b[0;32mreturn\u001b[0m \u001b[0mself\u001b[0m\u001b[0;34m.\u001b[0m\u001b[0mvalue\u001b[0m\u001b[0;34m(\u001b[0m\u001b[0mx\u001b[0m\u001b[0;34m)\u001b[0m\u001b[0;34m\u001b[0m\u001b[0;34m\u001b[0m\u001b[0m\n",
            "\u001b[0;31mTypeError\u001b[0m: can't multiply sequence by non-int of type 'list'"
          ]
        }
      ],
      "source": [
        "expression.evaluate([1,1,1,1,2])"
      ]
    },
    {
      "attachments": {},
      "cell_type": "markdown",
      "metadata": {
        "id": "aDwGkFpspvwz"
      },
      "source": [
        "### **Seleção**"
      ]
    },
    {
      "cell_type": "code",
      "execution_count": null,
      "metadata": {
        "id": "zzDI8qlxpxpF"
      },
      "outputs": [],
      "source": [
        "# Avaliação de fitness\n",
        "def fitness(individual, X, Y):\n",
        "    predictions = [individual.evaluate(x) for x in X]\n",
        "    error = np.mean((Y - predictions)**2)\n",
        "    return 1 / (1 + error)\n",
        "\n",
        "def fitness(individual, X, Y):\n",
        "    N = X.shape[0]\n",
        "    errors = np.square(individual.evaluate(X) - Y)\n",
        "    rmse = np.sqrt(np.sum(errors) / N)\n",
        "    return rmse\n",
        "\n",
        "# Seleção\n",
        "def tournament_selection(population, X, Y, k=3):\n",
        "    if k > len(population):\n",
        "          k = len(population)\n",
        "\n",
        "    selected = random.sample(population, k)\n",
        "    fitnesses = [fitness(ind, X, Y) for ind in selected]\n",
        "    return selected[np.argmax(fitnesses)]"
      ]
    },
    {
      "attachments": {},
      "cell_type": "markdown",
      "metadata": {
        "id": "eSB8CHvcpx-7"
      },
      "source": [
        "### **Operadores Genéticos**"
      ]
    },
    {
      "cell_type": "code",
      "execution_count": null,
      "metadata": {
        "id": "up-uvaRsp1vn"
      },
      "outputs": [],
      "source": [
        "# Cruzamento\n",
        "def crossover(parent1, parent2):\n",
        "    if not parent1.children or not parent2.children or random.random() > CROSSOVER_RATE:\n",
        "        return parent1, parent2\n",
        "\n",
        "    # Escolher ponto de cruzamento aleatoriamente em ambos os pais\n",
        "    crossover_point1 = random.randint(0, len(parent1.children) - 1)\n",
        "    crossover_point2 = random.randint(0, len(parent2.children) - 1)\n",
        "\n",
        "    # Trocar subárvores entre os pais\n",
        "    parent1.children[crossover_point1], parent2.children[crossover_point2] = parent2.children[crossover_point2], parent1.children[crossover_point1]\n",
        "\n",
        "    return parent1, parent2\n",
        "\n",
        "# Mutação\n",
        "def mutate(individual):\n",
        "    if not individual.children or random.random() > MUTATION_RATE:\n",
        "        return individual\n",
        "\n",
        "    mutation_point = random.randint(0, len(individual.children) - 1)\n",
        "    individual.children[mutation_point] = generate_random_expression(MAX_DEPTH - 1)\n",
        "\n",
        "    return individual"
      ]
    },
    {
      "attachments": {},
      "cell_type": "markdown",
      "metadata": {
        "id": "GR93PzE_qlwR"
      },
      "source": [
        "### **Geração da população inicial**"
      ]
    },
    {
      "cell_type": "code",
      "execution_count": 8,
      "metadata": {
        "id": "fBeru5qlqpeE"
      },
      "outputs": [],
      "source": [
        "# Gerar população inicial\n",
        "def generate_random_expression(depth):\n",
        "    if depth == 0 or random.random() < 0.1:\n",
        "        terminal = random.choice(TERMINALS)\n",
        "        return Node(value=terminal)\n",
        "    else:\n",
        "        function = random.choice(list(FUNCTIONS.keys()))\n",
        "        node = Node(function=FUNCTIONS[function])\n",
        "        for _ in range(2):\n",
        "            node.children.append(generate_random_expression(depth-1))\n",
        "        return node"
      ]
    },
    {
      "cell_type": "code",
      "execution_count": 9,
      "metadata": {
        "id": "rtmkMvt4KoOP"
      },
      "outputs": [],
      "source": [
        "from graphviz import Digraph\n",
        "from IPython.display import Image\n",
        "\n",
        "\n",
        "def visualize_tree_graph(node, graph=None, parent=None):\n",
        "    if graph is None:\n",
        "        graph = Digraph('Expression Tree', format='png')\n",
        "        \n",
        "    if node.function:\n",
        "        label = FUNCTION_MAP[node.function.__name__]\n",
        "    else:\n",
        "        label = TERMINAL_MAP[node.value.__name__]\n",
        "        \n",
        "    graph.node(str(id(node)), label)\n",
        "    \n",
        "    if parent:\n",
        "        graph.edge(str(id(parent)), str(id(node)))\n",
        "\n",
        "    for child in node.children:\n",
        "        visualize_tree_graph(child, graph, node)\n",
        "\n",
        "    return graph"
      ]
    },
    {
      "cell_type": "code",
      "execution_count": 5,
      "metadata": {
        "colab": {
          "base_uri": "https://localhost:8080/",
          "height": 364
        },
        "id": "Uh9innuTKpCY",
        "outputId": "02751607-b571-4402-8d3c-88e5ffa85ec3"
      },
      "outputs": [
        {
          "ename": "NameError",
          "evalue": "name 'generate_random_expression' is not defined",
          "output_type": "error",
          "traceback": [
            "\u001b[0;31m---------------------------------------------------------------------------\u001b[0m",
            "\u001b[0;31mNameError\u001b[0m                                 Traceback (most recent call last)",
            "Cell \u001b[0;32mIn[5], line 1\u001b[0m\n\u001b[0;32m----> 1\u001b[0m root \u001b[39m=\u001b[39m generate_random_expression(\u001b[39m3\u001b[39m)\n\u001b[1;32m      2\u001b[0m graph \u001b[39m=\u001b[39m visualize_tree_graph(root)\n\u001b[1;32m      3\u001b[0m png_data \u001b[39m=\u001b[39m graph\u001b[39m.\u001b[39mpipe()\n",
            "\u001b[0;31mNameError\u001b[0m: name 'generate_random_expression' is not defined"
          ]
        }
      ],
      "source": [
        "root = generate_random_expression(3)\n",
        "graph = visualize_tree_graph(root)\n",
        "png_data = graph.pipe()\n",
        "Image(png_data)"
      ]
    },
    {
      "cell_type": "code",
      "execution_count": 22,
      "metadata": {
        "id": "IPgITuBVMHpL"
      },
      "outputs": [],
      "source": [
        "# Funções e terminais disponíveis\n",
        "FUNCTION_MAP = {\n",
        "    \"add\" : \"+\",\n",
        "    \"sub\": \"-\",\n",
        "    \"mul\": \"*\",\n",
        "    \"<lambda>\": \"/\"\n",
        "}\n",
        "TERMINAL_MAP = {\n",
        "    \"<lambda>\" : \"x\"\n",
        "}\n",
        "\n",
        "\n",
        "def print_expression(node):\n",
        "  global x_count\n",
        "  x_count = 0\n",
        "  expr = print_expression_aux(node)\n",
        "  return expr + \" = y\"\n",
        "\n",
        "def print_expression_aux(node):\n",
        "    global x_count\n",
        "    if node.function:\n",
        "        left_child = node.children[0]\n",
        "        right_child = node.children[1]\n",
        "        left_expression = print_expression_aux(left_child)\n",
        "        right_expression = print_expression_aux(right_child)\n",
        "        return f\"({left_expression} {FUNCTION_MAP[node.function.__name__]} {right_expression})\"\n",
        "    else:\n",
        "        x_count += 1\n",
        "        return TERMINAL_MAP[node.value.__name__] + str(x_count)\n",
        "\n"
      ]
    },
    {
      "cell_type": "code",
      "execution_count": 16,
      "metadata": {
        "colab": {
          "base_uri": "https://localhost:8080/"
        },
        "id": "xCnLmhesYYxX",
        "outputId": "40ec3742-0114-4b16-f78f-858ba8f2af54"
      },
      "outputs": [
        {
          "name": "stdout",
          "output_type": "stream",
          "text": [
            "(((x1 + x2) / (x3 + x4)) * ((x5 * x6) + (x7 * x8))) = 0\n"
          ]
        }
      ],
      "source": [
        "# Example usage:\n",
        "expression = generate_random_expression(depth=3)\n",
        "expression_string = print_expression(expression)\n",
        "print(expression_string)"
      ]
    },
    {
      "attachments": {},
      "cell_type": "markdown",
      "metadata": {
        "id": "U2qjg4Q5p2Mo"
      },
      "source": [
        "### **Algoritmo Genético**"
      ]
    },
    {
      "cell_type": "code",
      "execution_count": null,
      "metadata": {
        "id": "aOxVZIa_nW2v"
      },
      "outputs": [],
      "source": [
        "def genetic():\n",
        "  population = [generate_random_expression(MAX_DEPTH) for _ in range(POPULATION_SIZE)]\n",
        "\n",
        "  # Algoritmo genético\n",
        "  X = np.random.uniform(-1, 1, size=(100, 1))\n",
        "  Y = np.sin(X)\n",
        "\n",
        "  for generation in range(NUM_GENERATIONS):\n",
        "      new_population = []\n",
        "      for _ in range(POPULATION_SIZE // 2):\n",
        "          parent1 = tournament_selection(population, X, Y)\n",
        "          parent2 = tournament_selection(population, X, Y)\n",
        "          offspring1, offspring2 = crossover(parent1, parent2)\n",
        "          offspring1 = mutate(offspring1)\n",
        "          offspring2 = mutate(offspring2)\n",
        "          new_population.extend([offspring1, offspring2])\n",
        "          population = new_population\n",
        "\n",
        "      # Avaliar e exibir o melhor indivíduo na geração atual\n",
        "      best_individual = max(population, key=lambda ind: fitness(ind, X, Y))\n",
        "      best_fitness = fitness(best_individual, X, Y)\n",
        "      print(f\"Melhor fitness na geração {generation + 1}: {best_fitness}\")\n",
        "\n",
        "  # Exibir o melhor indivíduo encontrado após todas as gerações\n",
        "  best_individual = max(population, key=lambda ind: fitness(ind, X, Y))\n",
        "  best_fitness = fitness(best_individual, X, Y)\n",
        "  print(f\"Melhor fitness geral: {best_fitness}\")\n"
      ]
    },
    {
      "attachments": {},
      "cell_type": "markdown",
      "metadata": {
        "id": "KpcYIo54IW9l"
      },
      "source": [
        "### **Versão Debugável**"
      ]
    },
    {
      "attachments": {},
      "cell_type": "markdown",
      "metadata": {
        "id": "azWM-gtspd2l"
      },
      "source": [
        "### **Funções e terminais**"
      ]
    },
    {
      "cell_type": "code",
      "execution_count": 12,
      "metadata": {
        "id": "hqTE3iTIpfi_"
      },
      "outputs": [],
      "source": [
        "# Funções e terminais disponíveis\n",
        "FUNCTIONS = {\n",
        "    \"+\": operator.add,\n",
        "    \"-\": operator.sub,\n",
        "    \"*\": operator.mul,\n",
        "    \"/\": lambda a, b: a / b if b != 0 else 1\n",
        "}\n",
        "TERMINALS = [\n",
        "    lambda x: x,\n",
        "    lambda _: 1\n",
        "]"
      ]
    },
    {
      "attachments": {},
      "cell_type": "markdown",
      "metadata": {
        "id": "O2JTGd_LqUii"
      },
      "source": [
        "### **Parâmetros**"
      ]
    },
    {
      "cell_type": "code",
      "execution_count": null,
      "metadata": {
        "id": "v3XH5PbXqWrl"
      },
      "outputs": [],
      "source": [
        "# Parâmetros\n",
        "POPULATION_SIZE = 100\n",
        "MAX_DEPTH = 5\n",
        "MUTATION_RATE = 0.1\n",
        "CROSSOVER_RATE = 0.9\n",
        "NUM_GENERATIONS = 50"
      ]
    },
    {
      "attachments": {},
      "cell_type": "markdown",
      "metadata": {
        "id": "57fHAxYPqu6a"
      },
      "source": [
        "# **Testes**"
      ]
    },
    {
      "cell_type": "code",
      "execution_count": null,
      "metadata": {
        "colab": {
          "base_uri": "https://localhost:8080/",
          "height": 380
        },
        "id": "CbW6pkelqwFh",
        "outputId": "868ba4d7-c5cd-4348-96a2-3d5674837117"
      },
      "outputs": [
        {
          "name": "stdout",
          "output_type": "stream",
          "text": [
            "Melhor fitness na geração 1: 0.6136256951327067\n",
            "Melhor fitness na geração 2: 1.44759072825306e-13\n",
            "Melhor fitness na geração 3: 0.7928148866866553\n",
            "Melhor fitness na geração 4: 0.001352882253066952\n"
          ]
        },
        {
          "ename": "KeyboardInterrupt",
          "evalue": "ignored",
          "output_type": "error",
          "traceback": [
            "\u001b[0;31m---------------------------------------------------------------------------\u001b[0m",
            "\u001b[0;31mKeyboardInterrupt\u001b[0m                         Traceback (most recent call last)",
            "\u001b[0;32m<ipython-input-9-a8783d39bb42>\u001b[0m in \u001b[0;36m<cell line: 1>\u001b[0;34m()\u001b[0m\n\u001b[0;32m----> 1\u001b[0;31m \u001b[0mgenetic\u001b[0m\u001b[0;34m(\u001b[0m\u001b[0;34m)\u001b[0m\u001b[0;34m\u001b[0m\u001b[0;34m\u001b[0m\u001b[0m\n\u001b[0m",
            "\u001b[0;32m<ipython-input-5-27e748df376c>\u001b[0m in \u001b[0;36mgenetic\u001b[0;34m()\u001b[0m\n\u001b[1;32m      9\u001b[0m       \u001b[0mnew_population\u001b[0m \u001b[0;34m=\u001b[0m \u001b[0;34m[\u001b[0m\u001b[0;34m]\u001b[0m\u001b[0;34m\u001b[0m\u001b[0;34m\u001b[0m\u001b[0m\n\u001b[1;32m     10\u001b[0m       \u001b[0;32mfor\u001b[0m \u001b[0m_\u001b[0m \u001b[0;32min\u001b[0m \u001b[0mrange\u001b[0m\u001b[0;34m(\u001b[0m\u001b[0mPOPULATION_SIZE\u001b[0m \u001b[0;34m//\u001b[0m \u001b[0;36m2\u001b[0m\u001b[0;34m)\u001b[0m\u001b[0;34m:\u001b[0m\u001b[0;34m\u001b[0m\u001b[0;34m\u001b[0m\u001b[0m\n\u001b[0;32m---> 11\u001b[0;31m           \u001b[0mparent1\u001b[0m \u001b[0;34m=\u001b[0m \u001b[0mtournament_selection\u001b[0m\u001b[0;34m(\u001b[0m\u001b[0mpopulation\u001b[0m\u001b[0;34m,\u001b[0m \u001b[0mX\u001b[0m\u001b[0;34m,\u001b[0m \u001b[0mY\u001b[0m\u001b[0;34m)\u001b[0m\u001b[0;34m\u001b[0m\u001b[0;34m\u001b[0m\u001b[0m\n\u001b[0m\u001b[1;32m     12\u001b[0m           \u001b[0mparent2\u001b[0m \u001b[0;34m=\u001b[0m \u001b[0mtournament_selection\u001b[0m\u001b[0;34m(\u001b[0m\u001b[0mpopulation\u001b[0m\u001b[0;34m,\u001b[0m \u001b[0mX\u001b[0m\u001b[0;34m,\u001b[0m \u001b[0mY\u001b[0m\u001b[0;34m)\u001b[0m\u001b[0;34m\u001b[0m\u001b[0;34m\u001b[0m\u001b[0m\n\u001b[1;32m     13\u001b[0m           \u001b[0moffspring1\u001b[0m\u001b[0;34m,\u001b[0m \u001b[0moffspring2\u001b[0m \u001b[0;34m=\u001b[0m \u001b[0mcrossover\u001b[0m\u001b[0;34m(\u001b[0m\u001b[0mparent1\u001b[0m\u001b[0;34m,\u001b[0m \u001b[0mparent2\u001b[0m\u001b[0;34m)\u001b[0m\u001b[0;34m\u001b[0m\u001b[0;34m\u001b[0m\u001b[0m\n",
            "\u001b[0;32m<ipython-input-3-d44a8b663d15>\u001b[0m in \u001b[0;36mtournament_selection\u001b[0;34m(population, X, Y, k)\u001b[0m\n\u001b[1;32m     11\u001b[0m \u001b[0;34m\u001b[0m\u001b[0m\n\u001b[1;32m     12\u001b[0m     \u001b[0mselected\u001b[0m \u001b[0;34m=\u001b[0m \u001b[0mrandom\u001b[0m\u001b[0;34m.\u001b[0m\u001b[0msample\u001b[0m\u001b[0;34m(\u001b[0m\u001b[0mpopulation\u001b[0m\u001b[0;34m,\u001b[0m \u001b[0mk\u001b[0m\u001b[0;34m)\u001b[0m\u001b[0;34m\u001b[0m\u001b[0;34m\u001b[0m\u001b[0m\n\u001b[0;32m---> 13\u001b[0;31m     \u001b[0mfitnesses\u001b[0m \u001b[0;34m=\u001b[0m \u001b[0;34m[\u001b[0m\u001b[0mfitness\u001b[0m\u001b[0;34m(\u001b[0m\u001b[0mind\u001b[0m\u001b[0;34m,\u001b[0m \u001b[0mX\u001b[0m\u001b[0;34m,\u001b[0m \u001b[0mY\u001b[0m\u001b[0;34m)\u001b[0m \u001b[0;32mfor\u001b[0m \u001b[0mind\u001b[0m \u001b[0;32min\u001b[0m \u001b[0mselected\u001b[0m\u001b[0;34m]\u001b[0m\u001b[0;34m\u001b[0m\u001b[0;34m\u001b[0m\u001b[0m\n\u001b[0m\u001b[1;32m     14\u001b[0m     \u001b[0;32mreturn\u001b[0m \u001b[0mselected\u001b[0m\u001b[0;34m[\u001b[0m\u001b[0mnp\u001b[0m\u001b[0;34m.\u001b[0m\u001b[0margmax\u001b[0m\u001b[0;34m(\u001b[0m\u001b[0mfitnesses\u001b[0m\u001b[0;34m)\u001b[0m\u001b[0;34m]\u001b[0m\u001b[0;34m\u001b[0m\u001b[0;34m\u001b[0m\u001b[0m\n",
            "\u001b[0;32m<ipython-input-3-d44a8b663d15>\u001b[0m in \u001b[0;36m<listcomp>\u001b[0;34m(.0)\u001b[0m\n\u001b[1;32m     11\u001b[0m \u001b[0;34m\u001b[0m\u001b[0m\n\u001b[1;32m     12\u001b[0m     \u001b[0mselected\u001b[0m \u001b[0;34m=\u001b[0m \u001b[0mrandom\u001b[0m\u001b[0;34m.\u001b[0m\u001b[0msample\u001b[0m\u001b[0;34m(\u001b[0m\u001b[0mpopulation\u001b[0m\u001b[0;34m,\u001b[0m \u001b[0mk\u001b[0m\u001b[0;34m)\u001b[0m\u001b[0;34m\u001b[0m\u001b[0;34m\u001b[0m\u001b[0m\n\u001b[0;32m---> 13\u001b[0;31m     \u001b[0mfitnesses\u001b[0m \u001b[0;34m=\u001b[0m \u001b[0;34m[\u001b[0m\u001b[0mfitness\u001b[0m\u001b[0;34m(\u001b[0m\u001b[0mind\u001b[0m\u001b[0;34m,\u001b[0m \u001b[0mX\u001b[0m\u001b[0;34m,\u001b[0m \u001b[0mY\u001b[0m\u001b[0;34m)\u001b[0m \u001b[0;32mfor\u001b[0m \u001b[0mind\u001b[0m \u001b[0;32min\u001b[0m \u001b[0mselected\u001b[0m\u001b[0;34m]\u001b[0m\u001b[0;34m\u001b[0m\u001b[0;34m\u001b[0m\u001b[0m\n\u001b[0m\u001b[1;32m     14\u001b[0m     \u001b[0;32mreturn\u001b[0m \u001b[0mselected\u001b[0m\u001b[0;34m[\u001b[0m\u001b[0mnp\u001b[0m\u001b[0;34m.\u001b[0m\u001b[0margmax\u001b[0m\u001b[0;34m(\u001b[0m\u001b[0mfitnesses\u001b[0m\u001b[0;34m)\u001b[0m\u001b[0;34m]\u001b[0m\u001b[0;34m\u001b[0m\u001b[0;34m\u001b[0m\u001b[0m\n",
            "\u001b[0;32m<ipython-input-3-d44a8b663d15>\u001b[0m in \u001b[0;36mfitness\u001b[0;34m(individual, X, Y)\u001b[0m\n\u001b[1;32m      1\u001b[0m \u001b[0;31m# Avaliação de fitness\u001b[0m\u001b[0;34m\u001b[0m\u001b[0;34m\u001b[0m\u001b[0m\n\u001b[1;32m      2\u001b[0m \u001b[0;32mdef\u001b[0m \u001b[0mfitness\u001b[0m\u001b[0;34m(\u001b[0m\u001b[0mindividual\u001b[0m\u001b[0;34m,\u001b[0m \u001b[0mX\u001b[0m\u001b[0;34m,\u001b[0m \u001b[0mY\u001b[0m\u001b[0;34m)\u001b[0m\u001b[0;34m:\u001b[0m\u001b[0;34m\u001b[0m\u001b[0;34m\u001b[0m\u001b[0m\n\u001b[0;32m----> 3\u001b[0;31m     \u001b[0mpredictions\u001b[0m \u001b[0;34m=\u001b[0m \u001b[0;34m[\u001b[0m\u001b[0mindividual\u001b[0m\u001b[0;34m.\u001b[0m\u001b[0mevaluate\u001b[0m\u001b[0;34m(\u001b[0m\u001b[0mx\u001b[0m\u001b[0;34m)\u001b[0m \u001b[0;32mfor\u001b[0m \u001b[0mx\u001b[0m \u001b[0;32min\u001b[0m \u001b[0mX\u001b[0m\u001b[0;34m]\u001b[0m\u001b[0;34m\u001b[0m\u001b[0;34m\u001b[0m\u001b[0m\n\u001b[0m\u001b[1;32m      4\u001b[0m     \u001b[0merror\u001b[0m \u001b[0;34m=\u001b[0m \u001b[0mnp\u001b[0m\u001b[0;34m.\u001b[0m\u001b[0mmean\u001b[0m\u001b[0;34m(\u001b[0m\u001b[0;34m(\u001b[0m\u001b[0mY\u001b[0m \u001b[0;34m-\u001b[0m \u001b[0mpredictions\u001b[0m\u001b[0;34m)\u001b[0m\u001b[0;34m**\u001b[0m\u001b[0;36m2\u001b[0m\u001b[0;34m)\u001b[0m\u001b[0;34m\u001b[0m\u001b[0;34m\u001b[0m\u001b[0m\n\u001b[1;32m      5\u001b[0m     \u001b[0;32mreturn\u001b[0m \u001b[0;36m1\u001b[0m \u001b[0;34m/\u001b[0m \u001b[0;34m(\u001b[0m\u001b[0;36m1\u001b[0m \u001b[0;34m+\u001b[0m \u001b[0merror\u001b[0m\u001b[0;34m)\u001b[0m\u001b[0;34m\u001b[0m\u001b[0;34m\u001b[0m\u001b[0m\n",
            "\u001b[0;32m<ipython-input-3-d44a8b663d15>\u001b[0m in \u001b[0;36m<listcomp>\u001b[0;34m(.0)\u001b[0m\n\u001b[1;32m      1\u001b[0m \u001b[0;31m# Avaliação de fitness\u001b[0m\u001b[0;34m\u001b[0m\u001b[0;34m\u001b[0m\u001b[0m\n\u001b[1;32m      2\u001b[0m \u001b[0;32mdef\u001b[0m \u001b[0mfitness\u001b[0m\u001b[0;34m(\u001b[0m\u001b[0mindividual\u001b[0m\u001b[0;34m,\u001b[0m \u001b[0mX\u001b[0m\u001b[0;34m,\u001b[0m \u001b[0mY\u001b[0m\u001b[0;34m)\u001b[0m\u001b[0;34m:\u001b[0m\u001b[0;34m\u001b[0m\u001b[0;34m\u001b[0m\u001b[0m\n\u001b[0;32m----> 3\u001b[0;31m     \u001b[0mpredictions\u001b[0m \u001b[0;34m=\u001b[0m \u001b[0;34m[\u001b[0m\u001b[0mindividual\u001b[0m\u001b[0;34m.\u001b[0m\u001b[0mevaluate\u001b[0m\u001b[0;34m(\u001b[0m\u001b[0mx\u001b[0m\u001b[0;34m)\u001b[0m \u001b[0;32mfor\u001b[0m \u001b[0mx\u001b[0m \u001b[0;32min\u001b[0m \u001b[0mX\u001b[0m\u001b[0;34m]\u001b[0m\u001b[0;34m\u001b[0m\u001b[0;34m\u001b[0m\u001b[0m\n\u001b[0m\u001b[1;32m      4\u001b[0m     \u001b[0merror\u001b[0m \u001b[0;34m=\u001b[0m \u001b[0mnp\u001b[0m\u001b[0;34m.\u001b[0m\u001b[0mmean\u001b[0m\u001b[0;34m(\u001b[0m\u001b[0;34m(\u001b[0m\u001b[0mY\u001b[0m \u001b[0;34m-\u001b[0m \u001b[0mpredictions\u001b[0m\u001b[0;34m)\u001b[0m\u001b[0;34m**\u001b[0m\u001b[0;36m2\u001b[0m\u001b[0;34m)\u001b[0m\u001b[0;34m\u001b[0m\u001b[0;34m\u001b[0m\u001b[0m\n\u001b[1;32m      5\u001b[0m     \u001b[0;32mreturn\u001b[0m \u001b[0;36m1\u001b[0m \u001b[0;34m/\u001b[0m \u001b[0;34m(\u001b[0m\u001b[0;36m1\u001b[0m \u001b[0;34m+\u001b[0m \u001b[0merror\u001b[0m\u001b[0;34m)\u001b[0m\u001b[0;34m\u001b[0m\u001b[0;34m\u001b[0m\u001b[0m\n",
            "\u001b[0;32m<ipython-input-2-12083d0e6ffc>\u001b[0m in \u001b[0;36mevaluate\u001b[0;34m(self, x)\u001b[0m\n\u001b[1;32m      8\u001b[0m     \u001b[0;32mdef\u001b[0m \u001b[0mevaluate\u001b[0m\u001b[0;34m(\u001b[0m\u001b[0mself\u001b[0m\u001b[0;34m,\u001b[0m \u001b[0mx\u001b[0m\u001b[0;34m)\u001b[0m\u001b[0;34m:\u001b[0m\u001b[0;34m\u001b[0m\u001b[0;34m\u001b[0m\u001b[0m\n\u001b[1;32m      9\u001b[0m         \u001b[0;32mif\u001b[0m \u001b[0mself\u001b[0m\u001b[0;34m.\u001b[0m\u001b[0mfunction\u001b[0m\u001b[0;34m:\u001b[0m\u001b[0;34m\u001b[0m\u001b[0;34m\u001b[0m\u001b[0m\n\u001b[0;32m---> 10\u001b[0;31m             \u001b[0;32mreturn\u001b[0m \u001b[0mself\u001b[0m\u001b[0;34m.\u001b[0m\u001b[0mfunction\u001b[0m\u001b[0;34m(\u001b[0m\u001b[0;34m*\u001b[0m\u001b[0;34m[\u001b[0m\u001b[0mchild\u001b[0m\u001b[0;34m.\u001b[0m\u001b[0mevaluate\u001b[0m\u001b[0;34m(\u001b[0m\u001b[0mx\u001b[0m\u001b[0;34m)\u001b[0m \u001b[0;32mfor\u001b[0m \u001b[0mchild\u001b[0m \u001b[0;32min\u001b[0m \u001b[0mself\u001b[0m\u001b[0;34m.\u001b[0m\u001b[0mchildren\u001b[0m\u001b[0;34m]\u001b[0m\u001b[0;34m)\u001b[0m\u001b[0;34m\u001b[0m\u001b[0;34m\u001b[0m\u001b[0m\n\u001b[0m\u001b[1;32m     11\u001b[0m         \u001b[0;32melse\u001b[0m\u001b[0;34m:\u001b[0m\u001b[0;34m\u001b[0m\u001b[0;34m\u001b[0m\u001b[0m\n\u001b[1;32m     12\u001b[0m             \u001b[0;32mreturn\u001b[0m \u001b[0mself\u001b[0m\u001b[0;34m.\u001b[0m\u001b[0mvalue\u001b[0m\u001b[0;34m(\u001b[0m\u001b[0mx\u001b[0m\u001b[0;34m)\u001b[0m\u001b[0;34m\u001b[0m\u001b[0;34m\u001b[0m\u001b[0m\n",
            "\u001b[0;32m<ipython-input-2-12083d0e6ffc>\u001b[0m in \u001b[0;36m<listcomp>\u001b[0;34m(.0)\u001b[0m\n\u001b[1;32m      8\u001b[0m     \u001b[0;32mdef\u001b[0m \u001b[0mevaluate\u001b[0m\u001b[0;34m(\u001b[0m\u001b[0mself\u001b[0m\u001b[0;34m,\u001b[0m \u001b[0mx\u001b[0m\u001b[0;34m)\u001b[0m\u001b[0;34m:\u001b[0m\u001b[0;34m\u001b[0m\u001b[0;34m\u001b[0m\u001b[0m\n\u001b[1;32m      9\u001b[0m         \u001b[0;32mif\u001b[0m \u001b[0mself\u001b[0m\u001b[0;34m.\u001b[0m\u001b[0mfunction\u001b[0m\u001b[0;34m:\u001b[0m\u001b[0;34m\u001b[0m\u001b[0;34m\u001b[0m\u001b[0m\n\u001b[0;32m---> 10\u001b[0;31m             \u001b[0;32mreturn\u001b[0m \u001b[0mself\u001b[0m\u001b[0;34m.\u001b[0m\u001b[0mfunction\u001b[0m\u001b[0;34m(\u001b[0m\u001b[0;34m*\u001b[0m\u001b[0;34m[\u001b[0m\u001b[0mchild\u001b[0m\u001b[0;34m.\u001b[0m\u001b[0mevaluate\u001b[0m\u001b[0;34m(\u001b[0m\u001b[0mx\u001b[0m\u001b[0;34m)\u001b[0m \u001b[0;32mfor\u001b[0m \u001b[0mchild\u001b[0m \u001b[0;32min\u001b[0m \u001b[0mself\u001b[0m\u001b[0;34m.\u001b[0m\u001b[0mchildren\u001b[0m\u001b[0;34m]\u001b[0m\u001b[0;34m)\u001b[0m\u001b[0;34m\u001b[0m\u001b[0;34m\u001b[0m\u001b[0m\n\u001b[0m\u001b[1;32m     11\u001b[0m         \u001b[0;32melse\u001b[0m\u001b[0;34m:\u001b[0m\u001b[0;34m\u001b[0m\u001b[0;34m\u001b[0m\u001b[0m\n\u001b[1;32m     12\u001b[0m             \u001b[0;32mreturn\u001b[0m \u001b[0mself\u001b[0m\u001b[0;34m.\u001b[0m\u001b[0mvalue\u001b[0m\u001b[0;34m(\u001b[0m\u001b[0mx\u001b[0m\u001b[0;34m)\u001b[0m\u001b[0;34m\u001b[0m\u001b[0;34m\u001b[0m\u001b[0m\n",
            "\u001b[0;32m<ipython-input-2-12083d0e6ffc>\u001b[0m in \u001b[0;36mevaluate\u001b[0;34m(self, x)\u001b[0m\n\u001b[1;32m      8\u001b[0m     \u001b[0;32mdef\u001b[0m \u001b[0mevaluate\u001b[0m\u001b[0;34m(\u001b[0m\u001b[0mself\u001b[0m\u001b[0;34m,\u001b[0m \u001b[0mx\u001b[0m\u001b[0;34m)\u001b[0m\u001b[0;34m:\u001b[0m\u001b[0;34m\u001b[0m\u001b[0;34m\u001b[0m\u001b[0m\n\u001b[1;32m      9\u001b[0m         \u001b[0;32mif\u001b[0m \u001b[0mself\u001b[0m\u001b[0;34m.\u001b[0m\u001b[0mfunction\u001b[0m\u001b[0;34m:\u001b[0m\u001b[0;34m\u001b[0m\u001b[0;34m\u001b[0m\u001b[0m\n\u001b[0;32m---> 10\u001b[0;31m             \u001b[0;32mreturn\u001b[0m \u001b[0mself\u001b[0m\u001b[0;34m.\u001b[0m\u001b[0mfunction\u001b[0m\u001b[0;34m(\u001b[0m\u001b[0;34m*\u001b[0m\u001b[0;34m[\u001b[0m\u001b[0mchild\u001b[0m\u001b[0;34m.\u001b[0m\u001b[0mevaluate\u001b[0m\u001b[0;34m(\u001b[0m\u001b[0mx\u001b[0m\u001b[0;34m)\u001b[0m \u001b[0;32mfor\u001b[0m \u001b[0mchild\u001b[0m \u001b[0;32min\u001b[0m \u001b[0mself\u001b[0m\u001b[0;34m.\u001b[0m\u001b[0mchildren\u001b[0m\u001b[0;34m]\u001b[0m\u001b[0;34m)\u001b[0m\u001b[0;34m\u001b[0m\u001b[0;34m\u001b[0m\u001b[0m\n\u001b[0m\u001b[1;32m     11\u001b[0m         \u001b[0;32melse\u001b[0m\u001b[0;34m:\u001b[0m\u001b[0;34m\u001b[0m\u001b[0;34m\u001b[0m\u001b[0m\n\u001b[1;32m     12\u001b[0m             \u001b[0;32mreturn\u001b[0m \u001b[0mself\u001b[0m\u001b[0;34m.\u001b[0m\u001b[0mvalue\u001b[0m\u001b[0;34m(\u001b[0m\u001b[0mx\u001b[0m\u001b[0;34m)\u001b[0m\u001b[0;34m\u001b[0m\u001b[0;34m\u001b[0m\u001b[0m\n",
            "\u001b[0;32m<ipython-input-2-12083d0e6ffc>\u001b[0m in \u001b[0;36m<listcomp>\u001b[0;34m(.0)\u001b[0m\n\u001b[1;32m      8\u001b[0m     \u001b[0;32mdef\u001b[0m \u001b[0mevaluate\u001b[0m\u001b[0;34m(\u001b[0m\u001b[0mself\u001b[0m\u001b[0;34m,\u001b[0m \u001b[0mx\u001b[0m\u001b[0;34m)\u001b[0m\u001b[0;34m:\u001b[0m\u001b[0;34m\u001b[0m\u001b[0;34m\u001b[0m\u001b[0m\n\u001b[1;32m      9\u001b[0m         \u001b[0;32mif\u001b[0m \u001b[0mself\u001b[0m\u001b[0;34m.\u001b[0m\u001b[0mfunction\u001b[0m\u001b[0;34m:\u001b[0m\u001b[0;34m\u001b[0m\u001b[0;34m\u001b[0m\u001b[0m\n\u001b[0;32m---> 10\u001b[0;31m             \u001b[0;32mreturn\u001b[0m \u001b[0mself\u001b[0m\u001b[0;34m.\u001b[0m\u001b[0mfunction\u001b[0m\u001b[0;34m(\u001b[0m\u001b[0;34m*\u001b[0m\u001b[0;34m[\u001b[0m\u001b[0mchild\u001b[0m\u001b[0;34m.\u001b[0m\u001b[0mevaluate\u001b[0m\u001b[0;34m(\u001b[0m\u001b[0mx\u001b[0m\u001b[0;34m)\u001b[0m \u001b[0;32mfor\u001b[0m \u001b[0mchild\u001b[0m \u001b[0;32min\u001b[0m \u001b[0mself\u001b[0m\u001b[0;34m.\u001b[0m\u001b[0mchildren\u001b[0m\u001b[0;34m]\u001b[0m\u001b[0;34m)\u001b[0m\u001b[0;34m\u001b[0m\u001b[0;34m\u001b[0m\u001b[0m\n\u001b[0m\u001b[1;32m     11\u001b[0m         \u001b[0;32melse\u001b[0m\u001b[0;34m:\u001b[0m\u001b[0;34m\u001b[0m\u001b[0;34m\u001b[0m\u001b[0m\n\u001b[1;32m     12\u001b[0m             \u001b[0;32mreturn\u001b[0m \u001b[0mself\u001b[0m\u001b[0;34m.\u001b[0m\u001b[0mvalue\u001b[0m\u001b[0;34m(\u001b[0m\u001b[0mx\u001b[0m\u001b[0;34m)\u001b[0m\u001b[0;34m\u001b[0m\u001b[0;34m\u001b[0m\u001b[0m\n",
            "\u001b[0;32m<ipython-input-2-12083d0e6ffc>\u001b[0m in \u001b[0;36mevaluate\u001b[0;34m(self, x)\u001b[0m\n\u001b[1;32m      8\u001b[0m     \u001b[0;32mdef\u001b[0m \u001b[0mevaluate\u001b[0m\u001b[0;34m(\u001b[0m\u001b[0mself\u001b[0m\u001b[0;34m,\u001b[0m \u001b[0mx\u001b[0m\u001b[0;34m)\u001b[0m\u001b[0;34m:\u001b[0m\u001b[0;34m\u001b[0m\u001b[0;34m\u001b[0m\u001b[0m\n\u001b[1;32m      9\u001b[0m         \u001b[0;32mif\u001b[0m \u001b[0mself\u001b[0m\u001b[0;34m.\u001b[0m\u001b[0mfunction\u001b[0m\u001b[0;34m:\u001b[0m\u001b[0;34m\u001b[0m\u001b[0;34m\u001b[0m\u001b[0m\n\u001b[0;32m---> 10\u001b[0;31m             \u001b[0;32mreturn\u001b[0m \u001b[0mself\u001b[0m\u001b[0;34m.\u001b[0m\u001b[0mfunction\u001b[0m\u001b[0;34m(\u001b[0m\u001b[0;34m*\u001b[0m\u001b[0;34m[\u001b[0m\u001b[0mchild\u001b[0m\u001b[0;34m.\u001b[0m\u001b[0mevaluate\u001b[0m\u001b[0;34m(\u001b[0m\u001b[0mx\u001b[0m\u001b[0;34m)\u001b[0m \u001b[0;32mfor\u001b[0m \u001b[0mchild\u001b[0m \u001b[0;32min\u001b[0m \u001b[0mself\u001b[0m\u001b[0;34m.\u001b[0m\u001b[0mchildren\u001b[0m\u001b[0;34m]\u001b[0m\u001b[0;34m)\u001b[0m\u001b[0;34m\u001b[0m\u001b[0;34m\u001b[0m\u001b[0m\n\u001b[0m\u001b[1;32m     11\u001b[0m         \u001b[0;32melse\u001b[0m\u001b[0;34m:\u001b[0m\u001b[0;34m\u001b[0m\u001b[0;34m\u001b[0m\u001b[0m\n\u001b[1;32m     12\u001b[0m             \u001b[0;32mreturn\u001b[0m \u001b[0mself\u001b[0m\u001b[0;34m.\u001b[0m\u001b[0mvalue\u001b[0m\u001b[0;34m(\u001b[0m\u001b[0mx\u001b[0m\u001b[0;34m)\u001b[0m\u001b[0;34m\u001b[0m\u001b[0;34m\u001b[0m\u001b[0m\n",
            "\u001b[0;32m<ipython-input-2-12083d0e6ffc>\u001b[0m in \u001b[0;36m<listcomp>\u001b[0;34m(.0)\u001b[0m\n\u001b[1;32m      8\u001b[0m     \u001b[0;32mdef\u001b[0m \u001b[0mevaluate\u001b[0m\u001b[0;34m(\u001b[0m\u001b[0mself\u001b[0m\u001b[0;34m,\u001b[0m \u001b[0mx\u001b[0m\u001b[0;34m)\u001b[0m\u001b[0;34m:\u001b[0m\u001b[0;34m\u001b[0m\u001b[0;34m\u001b[0m\u001b[0m\n\u001b[1;32m      9\u001b[0m         \u001b[0;32mif\u001b[0m \u001b[0mself\u001b[0m\u001b[0;34m.\u001b[0m\u001b[0mfunction\u001b[0m\u001b[0;34m:\u001b[0m\u001b[0;34m\u001b[0m\u001b[0;34m\u001b[0m\u001b[0m\n\u001b[0;32m---> 10\u001b[0;31m             \u001b[0;32mreturn\u001b[0m \u001b[0mself\u001b[0m\u001b[0;34m.\u001b[0m\u001b[0mfunction\u001b[0m\u001b[0;34m(\u001b[0m\u001b[0;34m*\u001b[0m\u001b[0;34m[\u001b[0m\u001b[0mchild\u001b[0m\u001b[0;34m.\u001b[0m\u001b[0mevaluate\u001b[0m\u001b[0;34m(\u001b[0m\u001b[0mx\u001b[0m\u001b[0;34m)\u001b[0m \u001b[0;32mfor\u001b[0m \u001b[0mchild\u001b[0m \u001b[0;32min\u001b[0m \u001b[0mself\u001b[0m\u001b[0;34m.\u001b[0m\u001b[0mchildren\u001b[0m\u001b[0;34m]\u001b[0m\u001b[0;34m)\u001b[0m\u001b[0;34m\u001b[0m\u001b[0;34m\u001b[0m\u001b[0m\n\u001b[0m\u001b[1;32m     11\u001b[0m         \u001b[0;32melse\u001b[0m\u001b[0;34m:\u001b[0m\u001b[0;34m\u001b[0m\u001b[0;34m\u001b[0m\u001b[0m\n\u001b[1;32m     12\u001b[0m             \u001b[0;32mreturn\u001b[0m \u001b[0mself\u001b[0m\u001b[0;34m.\u001b[0m\u001b[0mvalue\u001b[0m\u001b[0;34m(\u001b[0m\u001b[0mx\u001b[0m\u001b[0;34m)\u001b[0m\u001b[0;34m\u001b[0m\u001b[0;34m\u001b[0m\u001b[0m\n",
            "\u001b[0;32m<ipython-input-2-12083d0e6ffc>\u001b[0m in \u001b[0;36mevaluate\u001b[0;34m(self, x)\u001b[0m\n\u001b[1;32m      8\u001b[0m     \u001b[0;32mdef\u001b[0m \u001b[0mevaluate\u001b[0m\u001b[0;34m(\u001b[0m\u001b[0mself\u001b[0m\u001b[0;34m,\u001b[0m \u001b[0mx\u001b[0m\u001b[0;34m)\u001b[0m\u001b[0;34m:\u001b[0m\u001b[0;34m\u001b[0m\u001b[0;34m\u001b[0m\u001b[0m\n\u001b[1;32m      9\u001b[0m         \u001b[0;32mif\u001b[0m \u001b[0mself\u001b[0m\u001b[0;34m.\u001b[0m\u001b[0mfunction\u001b[0m\u001b[0;34m:\u001b[0m\u001b[0;34m\u001b[0m\u001b[0;34m\u001b[0m\u001b[0m\n\u001b[0;32m---> 10\u001b[0;31m             \u001b[0;32mreturn\u001b[0m \u001b[0mself\u001b[0m\u001b[0;34m.\u001b[0m\u001b[0mfunction\u001b[0m\u001b[0;34m(\u001b[0m\u001b[0;34m*\u001b[0m\u001b[0;34m[\u001b[0m\u001b[0mchild\u001b[0m\u001b[0;34m.\u001b[0m\u001b[0mevaluate\u001b[0m\u001b[0;34m(\u001b[0m\u001b[0mx\u001b[0m\u001b[0;34m)\u001b[0m \u001b[0;32mfor\u001b[0m \u001b[0mchild\u001b[0m \u001b[0;32min\u001b[0m \u001b[0mself\u001b[0m\u001b[0;34m.\u001b[0m\u001b[0mchildren\u001b[0m\u001b[0;34m]\u001b[0m\u001b[0;34m)\u001b[0m\u001b[0;34m\u001b[0m\u001b[0;34m\u001b[0m\u001b[0m\n\u001b[0m\u001b[1;32m     11\u001b[0m         \u001b[0;32melse\u001b[0m\u001b[0;34m:\u001b[0m\u001b[0;34m\u001b[0m\u001b[0;34m\u001b[0m\u001b[0m\n\u001b[1;32m     12\u001b[0m             \u001b[0;32mreturn\u001b[0m \u001b[0mself\u001b[0m\u001b[0;34m.\u001b[0m\u001b[0mvalue\u001b[0m\u001b[0;34m(\u001b[0m\u001b[0mx\u001b[0m\u001b[0;34m)\u001b[0m\u001b[0;34m\u001b[0m\u001b[0;34m\u001b[0m\u001b[0m\n",
            "\u001b[0;32m<ipython-input-2-12083d0e6ffc>\u001b[0m in \u001b[0;36m<listcomp>\u001b[0;34m(.0)\u001b[0m\n\u001b[1;32m      8\u001b[0m     \u001b[0;32mdef\u001b[0m \u001b[0mevaluate\u001b[0m\u001b[0;34m(\u001b[0m\u001b[0mself\u001b[0m\u001b[0;34m,\u001b[0m \u001b[0mx\u001b[0m\u001b[0;34m)\u001b[0m\u001b[0;34m:\u001b[0m\u001b[0;34m\u001b[0m\u001b[0;34m\u001b[0m\u001b[0m\n\u001b[1;32m      9\u001b[0m         \u001b[0;32mif\u001b[0m \u001b[0mself\u001b[0m\u001b[0;34m.\u001b[0m\u001b[0mfunction\u001b[0m\u001b[0;34m:\u001b[0m\u001b[0;34m\u001b[0m\u001b[0;34m\u001b[0m\u001b[0m\n\u001b[0;32m---> 10\u001b[0;31m             \u001b[0;32mreturn\u001b[0m \u001b[0mself\u001b[0m\u001b[0;34m.\u001b[0m\u001b[0mfunction\u001b[0m\u001b[0;34m(\u001b[0m\u001b[0;34m*\u001b[0m\u001b[0;34m[\u001b[0m\u001b[0mchild\u001b[0m\u001b[0;34m.\u001b[0m\u001b[0mevaluate\u001b[0m\u001b[0;34m(\u001b[0m\u001b[0mx\u001b[0m\u001b[0;34m)\u001b[0m \u001b[0;32mfor\u001b[0m \u001b[0mchild\u001b[0m \u001b[0;32min\u001b[0m \u001b[0mself\u001b[0m\u001b[0;34m.\u001b[0m\u001b[0mchildren\u001b[0m\u001b[0;34m]\u001b[0m\u001b[0;34m)\u001b[0m\u001b[0;34m\u001b[0m\u001b[0;34m\u001b[0m\u001b[0m\n\u001b[0m\u001b[1;32m     11\u001b[0m         \u001b[0;32melse\u001b[0m\u001b[0;34m:\u001b[0m\u001b[0;34m\u001b[0m\u001b[0;34m\u001b[0m\u001b[0m\n\u001b[1;32m     12\u001b[0m             \u001b[0;32mreturn\u001b[0m \u001b[0mself\u001b[0m\u001b[0;34m.\u001b[0m\u001b[0mvalue\u001b[0m\u001b[0;34m(\u001b[0m\u001b[0mx\u001b[0m\u001b[0;34m)\u001b[0m\u001b[0;34m\u001b[0m\u001b[0;34m\u001b[0m\u001b[0m\n",
            "\u001b[0;32m<ipython-input-2-12083d0e6ffc>\u001b[0m in \u001b[0;36mevaluate\u001b[0;34m(self, x)\u001b[0m\n\u001b[1;32m      8\u001b[0m     \u001b[0;32mdef\u001b[0m \u001b[0mevaluate\u001b[0m\u001b[0;34m(\u001b[0m\u001b[0mself\u001b[0m\u001b[0;34m,\u001b[0m \u001b[0mx\u001b[0m\u001b[0;34m)\u001b[0m\u001b[0;34m:\u001b[0m\u001b[0;34m\u001b[0m\u001b[0;34m\u001b[0m\u001b[0m\n\u001b[1;32m      9\u001b[0m         \u001b[0;32mif\u001b[0m \u001b[0mself\u001b[0m\u001b[0;34m.\u001b[0m\u001b[0mfunction\u001b[0m\u001b[0;34m:\u001b[0m\u001b[0;34m\u001b[0m\u001b[0;34m\u001b[0m\u001b[0m\n\u001b[0;32m---> 10\u001b[0;31m             \u001b[0;32mreturn\u001b[0m \u001b[0mself\u001b[0m\u001b[0;34m.\u001b[0m\u001b[0mfunction\u001b[0m\u001b[0;34m(\u001b[0m\u001b[0;34m*\u001b[0m\u001b[0;34m[\u001b[0m\u001b[0mchild\u001b[0m\u001b[0;34m.\u001b[0m\u001b[0mevaluate\u001b[0m\u001b[0;34m(\u001b[0m\u001b[0mx\u001b[0m\u001b[0;34m)\u001b[0m \u001b[0;32mfor\u001b[0m \u001b[0mchild\u001b[0m \u001b[0;32min\u001b[0m \u001b[0mself\u001b[0m\u001b[0;34m.\u001b[0m\u001b[0mchildren\u001b[0m\u001b[0;34m]\u001b[0m\u001b[0;34m)\u001b[0m\u001b[0;34m\u001b[0m\u001b[0;34m\u001b[0m\u001b[0m\n\u001b[0m\u001b[1;32m     11\u001b[0m         \u001b[0;32melse\u001b[0m\u001b[0;34m:\u001b[0m\u001b[0;34m\u001b[0m\u001b[0;34m\u001b[0m\u001b[0m\n\u001b[1;32m     12\u001b[0m             \u001b[0;32mreturn\u001b[0m \u001b[0mself\u001b[0m\u001b[0;34m.\u001b[0m\u001b[0mvalue\u001b[0m\u001b[0;34m(\u001b[0m\u001b[0mx\u001b[0m\u001b[0;34m)\u001b[0m\u001b[0;34m\u001b[0m\u001b[0;34m\u001b[0m\u001b[0m\n",
            "\u001b[0;31mKeyboardInterrupt\u001b[0m: "
          ]
        }
      ],
      "source": [
        "genetic()"
      ]
    },
    {
      "cell_type": "code",
      "execution_count": null,
      "metadata": {
        "id": "f5SdUHBBq953"
      },
      "outputs": [],
      "source": []
    },
    {
      "attachments": {},
      "cell_type": "markdown",
      "metadata": {
        "id": "Jp41GdjLq2-0"
      },
      "source": [
        "# Tentativo 2 de Implementação\n"
      ]
    },
    {
      "cell_type": "code",
      "execution_count": 1,
      "metadata": {
        "id": "4NRAGkAxq9hS"
      },
      "outputs": [],
      "source": [
        "POPSIZE: 1000\n",
        "GENERATIONS: 50\n",
        "ELITISM: 100                    # number of individuals that survive\n",
        "PROB_CROSSOVER: 0.9\n",
        "PROB_MUTATION: 0.05\n",
        "TSIZE: 3\n",
        "INCLUDE_GENOTYPE: False\n",
        "SAVE_STEP: 500\n",
        "VERBOSE: True\n",
        "MIN_TREE_DEPTH: 10\n",
        "MAX_TREE_DEPTH: 10\n",
        "ADAPTIVE: False\n",
        "LEARNING_FACTOR: 0.01"
      ]
    },
    {
      "cell_type": "code",
      "execution_count": 3,
      "metadata": {
        "id": "TaN9qWG7q8UC"
      },
      "outputs": [],
      "source": [
        "# Grammar\n",
        "grammar = \"\"\"<start> ::= <expr>\n",
        "<expr> ::= <expr><op><expr>|(<expr><op><expr>)|<var>\n",
        "<op> ::= +|-|*|\\eb_div_/eb\n",
        "<var> ::= x[0]|1.0\n",
        "\"\"\""
      ]
    },
    {
      "cell_type": "code",
      "execution_count": 13,
      "metadata": {
        "id": "BZQ_MLrBrniq"
      },
      "outputs": [],
      "source": [
        "grammar_dic = {\n",
        "    \"<start>\" : [\"<expr>\"],\n",
        "    \"<expr>\" : [\"<expr><op><expr>\",\"(<expr><op><expr>)\",\"<var>\"],\n",
        "    \"<op>\" : [\"+\",\"-\",\"*\",\"/\"],\n",
        "    \"<var>\" : [\"x\", \"1.0\"]\n",
        "}\n",
        "\n",
        "start_rule = \"<start>\"\n",
        "\n",
        "TERMINALS = grammar_dic[\"<op>\"] + grammar_dic[\"<var>\"]\n"
      ]
    },
    {
      "cell_type": "code",
      "execution_count": null,
      "metadata": {
        "id": "Pgdgp1xtrnFj"
      },
      "outputs": [],
      "source": [
        "def generate_random_individual():\n",
        "    genotype = [[] for _ in grammar_dic]\n",
        "    tree_depth = grammar.recursive_individual_creation(genotype, start_rule, 0)\n",
        "    return {'genotype': genotype, 'fitness': None, 'tree_depth' : tree_depth}"
      ]
    },
    {
      "cell_type": "code",
      "execution_count": null,
      "metadata": {
        "id": "acw9qp3fsicR"
      },
      "outputs": [],
      "source": [
        "max_init_depth = 5"
      ]
    },
    {
      "cell_type": "code",
      "execution_count": null,
      "metadata": {
        "id": "IkB2Hz5-sYaZ"
      },
      "outputs": [],
      "source": [
        "def recursive_individual_creation(genome, symbol, current_depth):\n",
        "        codon = np.random.uniform()\n",
        "        if current_depth > max_init_depth:\n",
        "            prob_non_recursive = 0.0\n",
        "            for rule in shortest_path[symbol][1:]:\n",
        "                index = self.grammar[symbol].index(rule)\n",
        "                prob_non_recursive += self.pcfg[self.index_of_non_terminal[symbol],index]\n",
        "            prob_aux = 0.0\n",
        "            for rule in self.shortest_path[(symbol,'NT')][1:]:\n",
        "                index = self.grammar[symbol].index(rule)\n",
        "                new_prob = self.pcfg[self.index_of_non_terminal[symbol],index] / prob_non_recursive\n",
        "                prob_aux += new_prob\n",
        "                if codon <= round(prob_aux,3):\n",
        "                    expansion_possibility = index\n",
        "                    break"
      ]
    },
    {
      "cell_type": "code",
      "execution_count": 14,
      "metadata": {
        "colab": {
          "base_uri": "https://localhost:8080/"
        },
        "id": "U0yFgDmktpgJ",
        "outputId": "2633a7b4-469d-42d0-a600-8e068bf31b51"
      },
      "outputs": [
        {
          "data": {
            "text/plain": [
              "dict_keys(['<start>', '<expr>', '<op>', '<var>'])"
            ]
          },
          "execution_count": 14,
          "metadata": {},
          "output_type": "execute_result"
        }
      ],
      "source": [
        "for nt in grammar_dic.keys():\n",
        "  "
      ]
    },
    {
      "cell_type": "code",
      "execution_count": 17,
      "metadata": {},
      "outputs": [],
      "source": [
        "import collections\n",
        "\n",
        "\n",
        "class OrderedSet(collections.abc.MutableSet):\n",
        "    \"\"\"\n",
        "    From http://code.activestate.com/recipes/528878-ordered-set/\n",
        "    \"\"\"\n",
        "\n",
        "    def __init__(self, iterable=None):\n",
        "        self.end = end = []\n",
        "        end += [None, end, end]  # sentinel node for doubly linked list\n",
        "        self.map = {}  # key --> [key, prev, next]\n",
        "        if iterable is not None:\n",
        "            self |= iterable\n",
        "\n",
        "    def __len__(self):\n",
        "        return len(self.map)\n",
        "\n",
        "    def __contains__(self, key):\n",
        "        return key in self.map\n",
        "\n",
        "    def index(self, elem):\n",
        "        if elem in self.map:\n",
        "            return next(i for i, e in enumerate(self) if e == elem)\n",
        "        else:\n",
        "            raise KeyError(\"That element isn't in the set\")\n",
        "\n",
        "    def add(self, key):\n",
        "        if key not in self.map:\n",
        "            end = self.end\n",
        "            curr = end[1]\n",
        "            curr[2] = end[1] = self.map[key] = [key, curr, end]\n",
        "\n",
        "    def discard(self, key):\n",
        "        if key in self.map:\n",
        "            key, prev, next = self.map.pop(key)\n",
        "            prev[2] = next\n",
        "            next[1] = prev\n",
        "\n",
        "    def __iter__(self):\n",
        "        end = self.end\n",
        "        curr = end[2]\n",
        "        while curr is not end:\n",
        "            yield curr[0]\n",
        "            curr = curr[2]\n",
        "\n",
        "    def __reversed__(self):\n",
        "        end = self.end\n",
        "        curr = end[1]\n",
        "        while curr is not end:\n",
        "            yield curr[0]\n",
        "            curr = curr[1]\n",
        "\n",
        "    def pop(self, last=True):\n",
        "        if not self:\n",
        "            raise KeyError('set is empty')\n",
        "        key = self.end[1][0] if last else self.end[2][0]\n",
        "        self.discard(key)\n",
        "        return key\n",
        "\n",
        "    def __repr__(self):\n",
        "        if not self:\n",
        "            return '%s()' % (self.__class__.__name__,)\n",
        "        return '%s(%r)' % (self.__class__.__name__, list(self))\n",
        "\n",
        "    def __eq__(self, other):\n",
        "        if isinstance(other, OrderedSet):\n",
        "            return len(self) == len(other) and list(self) == list(other)\n",
        "        return set(self) == set(other)"
      ]
    },
    {
      "cell_type": "code",
      "execution_count": 64,
      "metadata": {
        "id": "OpuhAOvntiap"
      },
      "outputs": [],
      "source": [
        "import re\n",
        "import json\n",
        "import numpy as np\n",
        "\n",
        "class Grammar:\n",
        "    \"\"\"Class that represents a grammar. It works with the prefix notation.\"\"\"\n",
        "    NT = \"NT\"\n",
        "    T = \"T\"\n",
        "    NT_PATTERN = \"(<.+?>)\"\n",
        "    RULE_SEPARATOR = \"::=\"\n",
        "    PRODUCTION_SEPARATOR = \"|\"\n",
        "\n",
        "    def __init__(self, grammar_file=None):\n",
        "        self.grammar_file = grammar_file\n",
        "        self.grammar = {}\n",
        "        self.productions_labels = {}\n",
        "        self.non_terminals, self.terminals = set(), set()\n",
        "        self.ordered_non_terminals = OrderedSet()\n",
        "        self.non_recursive_options = {}\n",
        "        self.number_of_options_by_non_terminal = None\n",
        "        self.start_rule = None\n",
        "        self.max_depth = None\n",
        "        self.max_init_depth = None\n",
        "        self.max_number_prod_rules = 0\n",
        "        self.pcfg = None\n",
        "        self.pcfg_mask = None\n",
        "        self.pcfg_path = None\n",
        "        self.index_of_non_terminal = {}\n",
        "        self.shortest_path = {}\n",
        "\n",
        "    def set_path(self, grammar_path):\n",
        "        self.grammar_file = grammar_path\n",
        "\n",
        "    def set_pcfg_path(self, pcfg_path):\n",
        "        self.pcfg_path = pcfg_path\n",
        "\n",
        "    def set_min_init_tree_depth(self, min_tree_depth):\n",
        "        self.max_init_depth = min_tree_depth\n",
        "\n",
        "    def set_max_tree_depth(self, max_tree_depth):\n",
        "        self.max_depth = max_tree_depth\n",
        "\n",
        "    def get_max_depth(self):\n",
        "        return self.max_depth\n",
        "    \n",
        "    def get_max_init_depth(self):\n",
        "        return self.max_init_depth\n",
        "\n",
        "    def read_grammar(self):\n",
        "        \"\"\"\n",
        "        Reads a Grammar in the BNF format and converts it to a python dictionary\n",
        "        This method was adapted from PonyGE version 0.1.3 by Erik Hemberg and James McDermott\n",
        "        \"\"\"\n",
        "        if self.grammar_file is None:\n",
        "            raise Exception(\"You need to specify the path of the grammar file\")\n",
        "\n",
        "\n",
        "        with open(self.grammar_file, \"r\") as f:\n",
        "            for line in f:\n",
        "                if not line.startswith(\"#\") and line.strip() != \"\":\n",
        "                    if line.find(self.PRODUCTION_SEPARATOR):\n",
        "                        left_side, productions = line.split(self.RULE_SEPARATOR)\n",
        "                        left_side = left_side.strip()\n",
        "                        if not re.search(self.NT_PATTERN, left_side):\n",
        "                            raise ValueError(\"Left side not a non-terminal!\")\n",
        "                        self.non_terminals.add(left_side)\n",
        "                        self.ordered_non_terminals.add(left_side)\n",
        "                        # assumes that the first rule in the file is the axiom\n",
        "                        if self.start_rule is None:\n",
        "                            self.start_rule = (left_side, self.NT)\n",
        "                        temp_productions = []\n",
        "                        for production in [production.strip() for production in productions.split(self.PRODUCTION_SEPARATOR)]:\n",
        "                            temp_production = []\n",
        "                            if not re.search(self.NT_PATTERN, production):\n",
        "                                if production == \"None\":\n",
        "                                    production = \"\"\n",
        "                                self.terminals.add(production)\n",
        "                                temp_production.append((production, self.T))\n",
        "                            else:\n",
        "                                for value in re.findall(\"<.+?>|[^<>]*\", production):\n",
        "                                    if value != \"\":\n",
        "                                        if re.search(self.NT_PATTERN, value) is None:\n",
        "                                            sym = (value, self.T)\n",
        "                                            self.terminals.add(value)\n",
        "                                        else:\n",
        "                                            sym = (value, self.NT)\n",
        "                                        temp_production.append(sym)\n",
        "                            temp_productions.append(temp_production)                          \n",
        "                        self.max_number_prod_rules = max(self.max_number_prod_rules, len(temp_productions))\n",
        "                        if left_side not in self.grammar:\n",
        "                            self.grammar[left_side] = temp_productions\n",
        "        \n",
        "        if self.pcfg_path is not None:\n",
        "            # load PCFG probabilities from json file. List of lists, n*n, with n = max number of production rules of a NT\n",
        "            with open(self.pcfg_path) as f:\n",
        "                self.pcfg = np.array(json.load(f))\n",
        "        else:\n",
        "            self.generate_uniform_pcfg()\n",
        "        # self.compute_non_recursive_options()\n",
        "        self.find_shortest_path()\n",
        "\n",
        "\n",
        "    def find_shortest_path(self):\n",
        "        open_symbols = []\n",
        "        for nt in self.grammar.keys():\n",
        "            depth = self.minimum_path_calc((nt,'NT'), open_symbols)\n",
        "            \n",
        "    def minimum_path_calc(self, current_symbol, open_symbols):\n",
        "        if current_symbol[1] == self.T:\n",
        "            return 0\n",
        "        else:\n",
        "            open_symbols.append(current_symbol)\n",
        "            for derivation_option in self.grammar[current_symbol[0]]:\n",
        "                max_depth = 0\n",
        "                if current_symbol not in self.shortest_path:\n",
        "                    self.shortest_path[current_symbol] = [999999]\n",
        "                if bool(sum([i in open_symbols for i in derivation_option])):\n",
        "                    continue\n",
        "                if current_symbol not in derivation_option:\n",
        "                    for symbol in derivation_option:\n",
        "                        depth = self.minimum_path_calc(symbol, open_symbols)\n",
        "                        depth += 1\n",
        "                        if depth > max_depth:\n",
        "                            max_depth = depth\n",
        "\n",
        "                    if max_depth < self.shortest_path[current_symbol][0]:\n",
        "                        self.shortest_path[current_symbol] = [max_depth]\n",
        "                        if derivation_option not in self.shortest_path[current_symbol]:\n",
        "                            self.shortest_path[current_symbol].append(derivation_option)\n",
        "                    if max_depth == self.shortest_path[current_symbol][0]:\n",
        "                        if derivation_option not in self.shortest_path[current_symbol]:\n",
        "                            self.shortest_path[current_symbol].append(derivation_option)\n",
        "            open_symbols.remove(current_symbol)\n",
        "            return self.shortest_path[current_symbol][0]\n",
        "                    \n",
        "            \n",
        "\n",
        "    def create_counter(self):\n",
        "        self.counter = dict.fromkeys(self.grammar.keys(),[])\n",
        "        for k in self.counter.keys():\n",
        "            self.counter[k] = [0] * len(self.grammar[k])\n",
        "\n",
        "    def generate_uniform_pcfg(self):\n",
        "        \"\"\"\n",
        "        assigns uniform probabilities to grammar\n",
        "        \"\"\"\n",
        "        array = np.zeros(shape=(len(self.grammar.keys()),self.max_number_prod_rules))\n",
        "        for i, nt in enumerate(self.grammar):\n",
        "            number_probs = len(self.grammar[nt])\n",
        "            prob = 1.0 / number_probs\n",
        "            array[i,:number_probs] = prob\n",
        "            if nt not in self.index_of_non_terminal:\n",
        "                self.index_of_non_terminal[nt] = i\n",
        "        self.pcfg = array\n",
        "        self.pcfg_mask = self.pcfg != 0\n",
        "\n",
        "    def generate_random_pcfg(self):\n",
        "        pass\n",
        "\n",
        "    def get_mask(self):\n",
        "        return self.pcfg_mask\n",
        "\n",
        "    def get_index_of_non_terminal(self):\n",
        "        return self.index_of_non_terminal\n",
        "\n",
        "    def get_non_terminals(self):\n",
        "        return self.ordered_non_terminals\n",
        "\n",
        "    def count_number_of_options_in_production(self):\n",
        "        if self.number_of_options_by_non_terminal is None:\n",
        "            self.number_of_options_by_non_terminal = {}\n",
        "            for nt in self.ordered_non_terminals:\n",
        "                self.number_of_options_by_non_terminal.setdefault(nt, len(self.grammar[nt]))\n",
        "        return self.number_of_options_by_non_terminal\n",
        "\n",
        "    def list_non_recursive_productions(self, nt):\n",
        "        non_recursive_elements = []\n",
        "        for options in self.grammar[nt]:\n",
        "            for option in options:\n",
        "                if option[1] == self.NT and option[0] == nt:\n",
        "                    break\n",
        "            else:\n",
        "                non_recursive_elements += [options]\n",
        "        return non_recursive_elements\n",
        "\n",
        "    def recursive_individual_creation(self, genome, symbol, current_depth):\n",
        "        codon = np.random.uniform()\n",
        "        if current_depth > self.max_init_depth:\n",
        "            prob_non_recursive = 0.0\n",
        "            for rule in self.shortest_path[(symbol,'NT')][1:]:\n",
        "                index = self.grammar[symbol].index(rule)\n",
        "                prob_non_recursive += self.pcfg[self.index_of_non_terminal[symbol],index]\n",
        "            prob_aux = 0.0\n",
        "            for rule in self.shortest_path[(symbol,'NT')][1:]:\n",
        "                index = self.grammar[symbol].index(rule)\n",
        "                new_prob = self.pcfg[self.index_of_non_terminal[symbol],index] / prob_non_recursive\n",
        "                prob_aux += new_prob\n",
        "                if codon <= round(prob_aux,3):\n",
        "                    expansion_possibility = index\n",
        "                    break\n",
        "        else:\n",
        "            prob_aux = 0.0\n",
        "            for index, option in enumerate(self.grammar[symbol]):\n",
        "                prob_aux += self.pcfg[self.index_of_non_terminal[symbol],index]\n",
        "                if codon <= round(prob_aux,3):\n",
        "                    expansion_possibility = index\n",
        "                    break\n",
        "\n",
        "        genome[self.get_non_terminals().index(symbol)].append([expansion_possibility,codon])\n",
        "        expansion_symbols = self.grammar[symbol][expansion_possibility]\n",
        "        depths = [current_depth]\n",
        "        for sym in expansion_symbols:\n",
        "            if sym[1] != self.T:\n",
        "                depths.append(self.recursive_individual_creation(genome, sym[0], current_depth + 1))\n",
        "        return max(depths)\n",
        "\n",
        "    def mapping(self, mapping_rules, positions_to_map=None, needs_python_filter=False):\n",
        "        if positions_to_map is None:\n",
        "            positions_to_map = [0] * len(self.ordered_non_terminals)\n",
        "        output = []\n",
        "        max_depth = self._recursive_mapping(mapping_rules, positions_to_map, self.start_rule, 0, output)\n",
        "        output = \"\".join(output)\n",
        "        if self.grammar_file.endswith(\"pybnf\"):\n",
        "            output = self.python_filter(output)\n",
        "        return output, max_depth\n",
        "\n",
        "    def _recursive_mapping(self, mapping_rules, positions_to_map, current_sym, current_depth, output):\n",
        "        depths = [current_depth]\n",
        "        print(current_sym)\n",
        "        print(self.T)\n",
        "        if current_sym[1] == self.T:\n",
        "            output.append(current_sym[0])\n",
        "        else:\n",
        "            current_sym_pos = self.ordered_non_terminals.index(current_sym[0])\n",
        "            choices = self.grammar[current_sym[0]]\n",
        "            codon = np.random.uniform()\n",
        "            if positions_to_map[current_sym_pos] >= len(mapping_rules[current_sym_pos]):\n",
        "                # Experiencia\n",
        "                if current_depth > self.max_depth:\n",
        "                    prob_non_recursive = 0.0\n",
        "                    for rule in self.shortest_path[current_sym][1:]:\n",
        "                        index = self.grammar[current_sym[0]].index(rule)\n",
        "                        prob_non_recursive += self.pcfg[self.index_of_non_terminal[current_sym[0]],index]\n",
        "                    prob_aux = 0.0\n",
        "                    for rule in self.shortest_path[current_sym][1:]:\n",
        "                        index = self.grammar[current_sym[0]].index(rule)\n",
        "                        new_prob = self.pcfg[self.index_of_non_terminal[current_sym[0]],index] / prob_non_recursive\n",
        "                        prob_aux += new_prob\n",
        "                        if codon <= round(prob_aux,3):\n",
        "                            expansion_possibility = index\n",
        "                            break\n",
        "                else:\n",
        "                    prob_aux = 0.0\n",
        "                    for index, option in enumerate(self.grammar[current_sym[0]]):\n",
        "                        prob_aux += self.pcfg[self.index_of_non_terminal[current_sym[0]],index]\n",
        "                        if codon <= round(prob_aux,3):\n",
        "                            expansion_possibility = index\n",
        "                            break\n",
        "                mapping_rules[current_sym_pos].append([expansion_possibility,codon])\n",
        "            else:\n",
        "                # re-mapping with new probabilities\n",
        "                print(\"Mapping Rules \", mapping_rules)\n",
        "                print(\"Current Sym \", current_sym)\n",
        "                print(\"Current Sym Pos \", current_sym_pos)\n",
        "                print(\"Mapping Rules on Current Sym Pos \", mapping_rules[current_sym_pos])\n",
        "                print(\"Positions to map \", positions_to_map)\n",
        "                print(\"Positions to map on Current Sym Pos \", positions_to_map[current_sym_pos])\n",
        "                print(\"codon without [1] \", mapping_rules[current_sym_pos][positions_to_map[current_sym_pos]])\n",
        "                codon = mapping_rules[current_sym_pos][positions_to_map[current_sym_pos]]\n",
        "                # If codon is list, get [1]\n",
        "                if isinstance(codon, list):\n",
        "                    codon = codon[1]\n",
        "                if current_depth > self.max_depth:\n",
        "                    prob_non_recursive = 0.0\n",
        "                    for rule in self.shortest_path[(current_sym[0],'NT')][1:]:\n",
        "                        index = self.grammar[current_sym[0]].index(rule)\n",
        "                        prob_non_recursive += self.pcfg[self.index_of_non_terminal[current_sym[0]],index]\n",
        "                    prob_aux = 0.0\n",
        "                    for rule in self.shortest_path[(current_sym[0],'NT')][1:]:\n",
        "                        index = self.grammar[current_sym[0]].index(rule)\n",
        "                        new_prob = self.pcfg[self.index_of_non_terminal[current_sym[0]],index] / prob_non_recursive\n",
        "                        prob_aux += new_prob\n",
        "                        if codon <= round(prob_aux,3):\n",
        "                            expansion_possibility = index\n",
        "                            break\n",
        "                else:\n",
        "                    prob_aux = 0.0\n",
        "                    for index, option in enumerate(self.grammar[current_sym[0]]):\n",
        "                        prob_aux += self.pcfg[self.index_of_non_terminal[current_sym[0]],index]\n",
        "                        if codon <= round(prob_aux,3):\n",
        "                            expansion_possibility = index\n",
        "                            break\n",
        "            # update mapping rules com a updated expansion possibility\n",
        "            mapping_rules[current_sym_pos][positions_to_map[current_sym_pos]] = [expansion_possibility, codon]\n",
        "            current_production = expansion_possibility\n",
        "            positions_to_map[current_sym_pos] += 1\n",
        "            next_to_expand = choices[current_production]\n",
        "            for next_sym in next_to_expand:\n",
        "                depths.append(\n",
        "                    self._recursive_mapping(mapping_rules, positions_to_map, next_sym, current_depth + 1, output))\n",
        "        return max(depths)\n",
        "\n",
        "    def compute_non_recursive_options(self):\n",
        "        for key in self.grammar.keys():\n",
        "            prob_non_recursive = 0.0\n",
        "            non_recursive_prods = []\n",
        "            for index, option in enumerate(self.grammar[key]):\n",
        "                for s in option:\n",
        "                    if s[0] == key:\n",
        "                        break\n",
        "                else:\n",
        "                    prob_non_recursive += self.pcfg[self.index_of_non_terminal[key],index]\n",
        "                    non_recursive_prods.append([index, option])\n",
        "            self.non_recursive_options[key] = [non_recursive_prods, prob_non_recursive]\n",
        "\n",
        "    def get_non_recursive_options(self, symbol):\n",
        "        return self.non_recursive_options[symbol]\n",
        "\n",
        "\n",
        "    def get_dict(self):\n",
        "        return self.grammar\n",
        "\n",
        "    def get_pcfg(self):\n",
        "        return self.pcfg\n",
        "\n",
        "    def get_shortest_path(self):\n",
        "        return self.shortest_path\n",
        "\n",
        "    @staticmethod\n",
        "    def python_filter(txt):\n",
        "        \"\"\" Create correct python syntax.\n",
        "        We use {: and :} as special open and close brackets, because\n",
        "        it's not possible to specify indentation correctly in a BNF\n",
        "        grammar without this type of scheme.\"\"\"\n",
        "        txt = txt.replace(\"/le\", \"<=\")\n",
        "        txt = txt.replace(\"/ge\", \">=\")\n",
        "        txt = txt.replace(\"/l\", \"<\")\n",
        "        txt = txt.replace(\"/g\", \">\")\n",
        "        txt = txt.replace(\"/eb\", \"|\")\n",
        "        indent_level = 0\n",
        "        tmp = txt[:]\n",
        "        i = 0\n",
        "        while i < len(tmp):\n",
        "            tok = tmp[i:i+2]\n",
        "            if tok == \"{:\":\n",
        "                indent_level += 1\n",
        "            elif tok == \":}\":\n",
        "                indent_level -= 1\n",
        "            tabstr = \"\\n\" + \"  \" * indent_level\n",
        "            if tok == \"{:\" or tok == \":}\" or tok == \"/n\":\n",
        "                tmp = tmp.replace(tok, tabstr, 1)\n",
        "            i += 1\n",
        "            # Strip superfluous blank lines.\n",
        "            txt = \"\\n\".join([line for line in tmp.split(\"\\n\") if line.strip() != \"\"])\n",
        "        return txt\n",
        "\n",
        "    def get_start_rule(self):\n",
        "        return self.start_rule\n",
        "\n",
        "    def __str__(self):\n",
        "        grammar = self.grammar\n",
        "        text = \"\"\n",
        "        for key in self.ordered_non_terminals:\n",
        "            text += key + \" ::= \"\n",
        "            for options in grammar[key]:\n",
        "                for option in options:\n",
        "                    text += option[0]\n",
        "                if options != grammar[key][-1]:\n",
        "                    text += \" | \"\n",
        "            text += \"\\n\"\n",
        "        return text\n",
        "\n",
        "# Create one instance and export its methods as module-level functions.\n",
        "# The functions share state across all uses\n",
        "# (both in the user's code and in the Python libraries), but that's fine\n",
        "# for most programs and is easier for the casual user\n"
      ]
    },
    {
      "cell_type": "code",
      "execution_count": 26,
      "metadata": {},
      "outputs": [],
      "source": [
        "_inst = Grammar()\n",
        "set_path = _inst.set_path\n",
        "set_pcfg_path = _inst.set_pcfg_path\n",
        "read_grammar = _inst.read_grammar\n",
        "get_non_terminals = _inst.get_non_terminals\n",
        "count_number_of_options_in_production = _inst.count_number_of_options_in_production\n",
        "list_non_recursive_productions = _inst.list_non_recursive_productions\n",
        "recursive_individual_creation = _inst.recursive_individual_creation\n",
        "mapping = _inst.mapping\n",
        "start_rule = _inst.get_start_rule\n",
        "set_max_tree_depth = _inst.set_max_tree_depth\n",
        "set_min_init_tree_depth = _inst.set_min_init_tree_depth\n",
        "get_max_depth = _inst.get_max_depth\n",
        "get_non_recursive_options = _inst.get_non_recursive_options\n",
        "# compute_non_recursive_options = _inst.compute_non_recursive_options\n",
        "get_dict = _inst.get_dict\n",
        "get_pcfg = _inst.get_pcfg\n",
        "get_mask = _inst.get_mask\n",
        "get_shortest_path = _inst.get_shortest_path\n",
        "get_index_of_non_terminal = _inst.get_index_of_non_terminal\n",
        "ordered_non_terminals = _inst.ordered_non_terminals\n",
        "max_init_depth = _inst.get_max_init_depth\n",
        "python_filter = _inst.python_filter"
      ]
    },
    {
      "cell_type": "code",
      "execution_count": 65,
      "metadata": {},
      "outputs": [],
      "source": [
        "g = Grammar(\"grammars/regression.txt\")\n",
        "g.read_grammar()"
      ]
    },
    {
      "cell_type": "code",
      "execution_count": 66,
      "metadata": {},
      "outputs": [],
      "source": [
        "g.read_grammar()\n",
        "g.set_max_tree_depth(9)"
      ]
    },
    {
      "cell_type": "code",
      "execution_count": 48,
      "metadata": {},
      "outputs": [],
      "source": [
        "genome = [[0], [0, 3, 3], [0], [], [1, 1]]"
      ]
    },
    {
      "cell_type": "code",
      "execution_count": 49,
      "metadata": {},
      "outputs": [],
      "source": [
        "mapping_numbers = [0] * len(genome)"
      ]
    },
    {
      "cell_type": "code",
      "execution_count": 68,
      "metadata": {},
      "outputs": [
        {
          "data": {
            "text/plain": [
              "{'<start>': [[('<expr>', 'NT')]],\n",
              " '<expr>': [[('<expr>', 'NT'), ('<op>', 'NT'), ('<expr>', 'NT')],\n",
              "  [('(', 'T'), ('<expr>', 'NT'), ('<op>', 'NT'), ('<expr>', 'NT'), (')', 'T')],\n",
              "  [('<var>', 'NT')]],\n",
              " '<op>': [[('+', 'T')], [('-', 'T')], [('*', 'T')], [('\\\\eb_div_\\\\eb', 'T')]],\n",
              " '<var>': [[('x[0]', 'T')], [('1.0', 'T')]]}"
            ]
          },
          "execution_count": 68,
          "metadata": {},
          "output_type": "execute_result"
        }
      ],
      "source": [
        "g.grammar"
      ]
    },
    {
      "cell_type": "code",
      "execution_count": 69,
      "metadata": {},
      "outputs": [
        {
          "data": {
            "text/plain": [
              "('<start>', 'NT')"
            ]
          },
          "execution_count": 69,
          "metadata": {},
          "output_type": "execute_result"
        }
      ],
      "source": [
        "g.start_rule"
      ]
    },
    {
      "cell_type": "code",
      "execution_count": 67,
      "metadata": {},
      "outputs": [
        {
          "name": "stdout",
          "output_type": "stream",
          "text": [
            "('<start>', 'NT')\n",
            "T\n",
            "('<expr>', 'NT')\n",
            "T\n",
            "Mapping Rules  [[[0, 0], [0, 0.8420644070046309], [0, 0.955463325123809]], [[0, 0], 3, 3], [0], [], [1, 1]]\n",
            "Current Sym  ('<expr>', 'NT')\n",
            "Current Sym Pos  1\n",
            "Mapping Rules on Current Sym Pos  [[0, 0], 3, 3]\n",
            "Positions to map  [3, 1, 0, 0, 0]\n",
            "Positions to map on Current Sym Pos  1\n",
            "codon without [1]  3\n"
          ]
        },
        {
          "ename": "UnboundLocalError",
          "evalue": "local variable 'expansion_possibility' referenced before assignment",
          "output_type": "error",
          "traceback": [
            "\u001b[0;31m---------------------------------------------------------------------------\u001b[0m",
            "\u001b[0;31mUnboundLocalError\u001b[0m                         Traceback (most recent call last)",
            "Cell \u001b[0;32mIn[67], line 1\u001b[0m\n\u001b[0;32m----> 1\u001b[0m \u001b[39mprint\u001b[39m(g\u001b[39m.\u001b[39;49mmapping(genome, mapping_numbers, needs_python_filter\u001b[39m=\u001b[39;49m\u001b[39mTrue\u001b[39;49;00m))\n",
            "Cell \u001b[0;32mIn[64], line 220\u001b[0m, in \u001b[0;36mGrammar.mapping\u001b[0;34m(self, mapping_rules, positions_to_map, needs_python_filter)\u001b[0m\n\u001b[1;32m    218\u001b[0m     positions_to_map \u001b[39m=\u001b[39m [\u001b[39m0\u001b[39m] \u001b[39m*\u001b[39m \u001b[39mlen\u001b[39m(\u001b[39mself\u001b[39m\u001b[39m.\u001b[39mordered_non_terminals)\n\u001b[1;32m    219\u001b[0m output \u001b[39m=\u001b[39m []\n\u001b[0;32m--> 220\u001b[0m max_depth \u001b[39m=\u001b[39m \u001b[39mself\u001b[39;49m\u001b[39m.\u001b[39;49m_recursive_mapping(mapping_rules, positions_to_map, \u001b[39mself\u001b[39;49m\u001b[39m.\u001b[39;49mstart_rule, \u001b[39m0\u001b[39;49m, output)\n\u001b[1;32m    221\u001b[0m output \u001b[39m=\u001b[39m \u001b[39m\"\u001b[39m\u001b[39m\"\u001b[39m\u001b[39m.\u001b[39mjoin(output)\n\u001b[1;32m    222\u001b[0m \u001b[39mif\u001b[39;00m \u001b[39mself\u001b[39m\u001b[39m.\u001b[39mgrammar_file\u001b[39m.\u001b[39mendswith(\u001b[39m\"\u001b[39m\u001b[39mpybnf\u001b[39m\u001b[39m\"\u001b[39m):\n",
            "Cell \u001b[0;32mIn[64], line 299\u001b[0m, in \u001b[0;36mGrammar._recursive_mapping\u001b[0;34m(self, mapping_rules, positions_to_map, current_sym, current_depth, output)\u001b[0m\n\u001b[1;32m    296\u001b[0m     next_to_expand \u001b[39m=\u001b[39m choices[current_production]\n\u001b[1;32m    297\u001b[0m     \u001b[39mfor\u001b[39;00m next_sym \u001b[39min\u001b[39;00m next_to_expand:\n\u001b[1;32m    298\u001b[0m         depths\u001b[39m.\u001b[39mappend(\n\u001b[0;32m--> 299\u001b[0m             \u001b[39mself\u001b[39;49m\u001b[39m.\u001b[39;49m_recursive_mapping(mapping_rules, positions_to_map, next_sym, current_depth \u001b[39m+\u001b[39;49m \u001b[39m1\u001b[39;49m, output))\n\u001b[1;32m    300\u001b[0m \u001b[39mreturn\u001b[39;00m \u001b[39mmax\u001b[39m(depths)\n",
            "Cell \u001b[0;32mIn[64], line 293\u001b[0m, in \u001b[0;36mGrammar._recursive_mapping\u001b[0;34m(self, mapping_rules, positions_to_map, current_sym, current_depth, output)\u001b[0m\n\u001b[1;32m    291\u001b[0m                 \u001b[39mbreak\u001b[39;00m\n\u001b[1;32m    292\u001b[0m \u001b[39m# update mapping rules com a updated expansion possibility\u001b[39;00m\n\u001b[0;32m--> 293\u001b[0m mapping_rules[current_sym_pos][positions_to_map[current_sym_pos]] \u001b[39m=\u001b[39m [expansion_possibility, codon]\n\u001b[1;32m    294\u001b[0m current_production \u001b[39m=\u001b[39m expansion_possibility\n\u001b[1;32m    295\u001b[0m positions_to_map[current_sym_pos] \u001b[39m+\u001b[39m\u001b[39m=\u001b[39m \u001b[39m1\u001b[39m\n",
            "\u001b[0;31mUnboundLocalError\u001b[0m: local variable 'expansion_possibility' referenced before assignment"
          ]
        }
      ],
      "source": [
        "print(g.mapping(genome, mapping_numbers, needs_python_filter=True))"
      ]
    },
    {
      "cell_type": "code",
      "execution_count": 67,
      "metadata": {},
      "outputs": [],
      "source": [
        "grammar_dic = {\n",
        "            '<start>': [\n",
        "                [('<expr>', 'NT')]\n",
        "            ], \n",
        "            '<expr>': [\n",
        "                [('<expr>', 'NT'), ('<op>', 'NT'), ('<expr>', 'NT')], \n",
        "                [('(', 'T'), ('<expr>', 'NT'), ('<op>', 'NT'), ('<expr>', 'NT'), (')', 'T')], \n",
        "                [('<var>', 'NT')]\n",
        "            ],\n",
        "            '<op>': [\n",
        "                [('+', 'T')], \n",
        "                [('-', 'T')], \n",
        "                [('*', 'T')], \n",
        "                [('|_div_|', 'T')]\n",
        "            ],\n",
        "            '<var>': [\n",
        "                [('x[0]', 'T')], \n",
        "                [('1.0', 'T')]\n",
        "            ]\n",
        "        }"
      ]
    },
    {
      "cell_type": "code",
      "execution_count": 71,
      "metadata": {},
      "outputs": [],
      "source": [
        "shortest_path = {}\n",
        "\n",
        "def minimum_path_calc(current_symbol, open_symbols):\n",
        "        if current_symbol[1] == \"T\":\n",
        "            return 0\n",
        "        else:\n",
        "            open_symbols.append(current_symbol)\n",
        "            for derivation_option in grammar_dic[current_symbol[0]]:\n",
        "                max_depth = 0\n",
        "                if current_symbol not in shortest_path:\n",
        "                    shortest_path[current_symbol] = [999999]\n",
        "                if bool(sum([i in open_symbols for i in derivation_option])):\n",
        "                    continue\n",
        "                if current_symbol not in derivation_option:\n",
        "                    for symbol in derivation_option:\n",
        "                        depth = minimum_path_calc(symbol, open_symbols)\n",
        "                        depth += 1\n",
        "                        if depth > max_depth:\n",
        "                            max_depth = depth\n",
        "\n",
        "                    if max_depth < shortest_path[current_symbol][0]:\n",
        "                        shortest_path[current_symbol] = [max_depth]\n",
        "                        if derivation_option not in shortest_path[current_symbol]:\n",
        "                            shortest_path[current_symbol].append(derivation_option)\n",
        "                    if max_depth == shortest_path[current_symbol][0]:\n",
        "                        if derivation_option not in shortest_path[current_symbol]:\n",
        "                            shortest_path[current_symbol].append(derivation_option)\n",
        "            open_symbols.remove(current_symbol)\n",
        "            return shortest_path[current_symbol][0]"
      ]
    },
    {
      "cell_type": "code",
      "execution_count": 76,
      "metadata": {},
      "outputs": [],
      "source": [
        "open_symbols = []\n",
        "for nt in grammar_dic.keys():\n",
        "    depth = minimum_path_calc((nt,'NT'), open_symbols)"
      ]
    },
    {
      "cell_type": "code",
      "execution_count": 77,
      "metadata": {},
      "outputs": [
        {
          "data": {
            "text/plain": [
              "{('<start>', 'NT'): [3, [('<expr>', 'NT')]],\n",
              " ('<expr>', 'NT'): [2, [('<var>', 'NT')]],\n",
              " ('<var>', 'NT'): [1, [('x[0]', 'T')], [('1.0', 'T')]],\n",
              " ('<op>', 'NT'): [1,\n",
              "  [('+', 'T')],\n",
              "  [('-', 'T')],\n",
              "  [('*', 'T')],\n",
              "  [('\\\\eb_div_\\\\eb', 'T')]]}"
            ]
          },
          "execution_count": 77,
          "metadata": {},
          "output_type": "execute_result"
        }
      ],
      "source": [
        "shortest_path"
      ]
    },
    {
      "cell_type": "code",
      "execution_count": 78,
      "metadata": {},
      "outputs": [],
      "source": [
        "shortest_path2 = {\n",
        "            ('<start>', 'NT'): [3, grammar_dic['<start>'][0]],\n",
        "            ('<expr>', 'NT'): [2, grammar_dic['<expr>'][2]],\n",
        "            ('<var>', 'NT'): [1, grammar_dic['<var>'][0], grammar_dic['<var>'][1]],\n",
        "            ('<op>', 'NT'): [1,grammar_dic['<op>'][0], grammar_dic['<op>'][1],grammar_dic['<op>'][2], grammar_dic['<op>'][3]]\n",
        "        }"
      ]
    },
    {
      "cell_type": "code",
      "execution_count": 15,
      "metadata": {},
      "outputs": [],
      "source": [
        "phen = '(1.0+1.0+1.0/1.0+((1.0+x[0]/(1.0*1.0)*(x[0]*1.0)/(x[0]-x[0]))-x[0]+x[0]+1.0+x[0]/(1.0+1.0/1.0))/((1.0-((x[0]+x[0])/x[0]-1.0))/1.0))'"
      ]
    },
    {
      "cell_type": "code",
      "execution_count": 19,
      "metadata": {},
      "outputs": [],
      "source": [
        "fit_case = [1,1]"
      ]
    },
    {
      "cell_type": "code",
      "execution_count": 22,
      "metadata": {},
      "outputs": [],
      "source": [
        "import numpy as np"
      ]
    },
    {
      "cell_type": "code",
      "execution_count": 45,
      "metadata": {},
      "outputs": [],
      "source": [
        "X_train = np.array([[1, 1], [2, 2], [1, 2], [0, 1], [0, 0], [2, 1]])\n",
        "y_train = np.array([2, 4, 3, 1, 0, 3])"
      ]
    },
    {
      "cell_type": "code",
      "execution_count": null,
      "metadata": {},
      "outputs": [],
      "source": []
    },
    {
      "cell_type": "code",
      "execution_count": 50,
      "metadata": {},
      "outputs": [],
      "source": [
        "def evaluate(expr, x):\n",
        "    if isinstance(x, (list, np.ndarray)):\n",
        "        return x[0]\n",
        "    else:\n",
        "        return x"
      ]
    },
    {
      "cell_type": "code",
      "execution_count": null,
      "metadata": {},
      "outputs": [
        {
          "data": {
            "text/plain": [
              "0"
            ]
          },
          "execution_count": 111,
          "metadata": {},
          "output_type": "execute_result"
        }
      ],
      "source": [
        "def protec_div(x, y):\n",
        "    if y == 0:\n",
        "        return 0\n",
        "    else:\n",
        "        return x / y\n",
        "\n",
        "class Infix:\n",
        "    def __init__(self, function):\n",
        "        self.function = function\n",
        "\n",
        "    def __ror__(self, other):\n",
        "        return Infix(lambda x, self=self, other=other: self.function(other, x))\n",
        "\n",
        "    def __or__(self, other):\n",
        "        return self.function(other)\n",
        "\n",
        "    def __rlshift__(self, other):\n",
        "        return Infix(lambda x, self=self, other=other: self.function(other, x))\n",
        "\n",
        "    def __rshift__(self, other):\n",
        "        return self.function(other)\n",
        "\n",
        "    def __call__(self, value1, value2):\n",
        "        return self.functi\n",
        "    \n",
        "_div_ = Infix(protec_div)\n",
        "\n",
        "X_train = np.array([[1, 1], [2, 2], [1, 2], [0, 1], [0, 0], [2, 1]])\n",
        "y_train = np.array([2, 4, 3, 1, 0, 3])\n",
        "phen_test = '(x[1]+x[1]-(((x[0]*x[1]*x[1])|protec_div|x[1]+x[0]-x[1])+(x[0]*x[1])|protec_div|(x[0]*x[0])|protec_div|(x[0]|protec_div|x[1]-x[1]))*x[1]-((x[0]*x[1])+x[1]|protec_div|x[1])|protec_div|((x[1]|protec_div|x[0])-x[1])*x[1])'\n",
        "result = eval(phen_test, globals(), {'x': X_train[0], 'protec_div': _div_})\n",
        "result"
      ]
    },
    {
      "cell_type": "code",
      "execution_count": null,
      "metadata": {},
      "outputs": [],
      "source": [
        "\n",
        "X = [1]\n",
        "mey_expr = '1+2*x[0]'\n",
        "\n",
        "result = eval(phen_test, globals(), {'x': X_train[0], 'protec_div': _div_})\n",
        "\n",
        "result"
      ]
    },
    {
      "cell_type": "code",
      "execution_count": null,
      "metadata": {},
      "outputs": [],
      "source": [
        "\"\"\"(x[1]+x[1]-(((x[0]*x[1]*x[1])|protec_div|x[1]+x[0]-x[1])+(x[0]*x[1])|protec_div|(x[0]*x[0])\n",
        "|protec_div|(x[0]|protec_div|x[1]-x[1]))*x[1]-\n",
        "((x[0]*x[1])+x[1]|protec_div|x[1])|protec_div|\n",
        "((x[1]|protec_div|x[0])-x[1])*x[1])\"\"\""
      ]
    },
    {
      "cell_type": "code",
      "execution_count": 112,
      "metadata": {},
      "outputs": [
        {
          "data": {
            "text/plain": [
              "{'<start>': 1, '<expr>': 3, '<op>': 4, '<var>': 2}"
            ]
          },
          "execution_count": 112,
          "metadata": {},
          "output_type": "execute_result"
        }
      ],
      "source": [
        "n = {}\n",
        "for nt in ['<start>', '<expr>', '<op>', '<var>']:\n",
        "    n.setdefault(nt, len(grammar_dic[nt]))\n",
        "n"
      ]
    },
    {
      "cell_type": "code",
      "execution_count": 55,
      "metadata": {},
      "outputs": [
        {
          "data": {
            "text/plain": [
              "array([[0, 0],\n",
              "       [0, 0],\n",
              "       [0, 0],\n",
              "       [0, 0],\n",
              "       [0, 0],\n",
              "       [0, 0]])"
            ]
          },
          "execution_count": 55,
          "metadata": {},
          "output_type": "execute_result"
        }
      ],
      "source": [
        "def evaluate(x):\n",
        "    if isinstance(x, np.ndarray):\n",
        "        return x[0]\n",
        "    else:\n",
        "        return 0\n",
        "X_train = np.array([[1, 1], [2, 2], [1, 2], [0, 1], [0, 0], [2, 1]])\n",
        "eval_result = np.vectorize(evaluate)(X_train)\n",
        "eval_result"
      ]
    },
    {
      "cell_type": "code",
      "execution_count": 57,
      "metadata": {},
      "outputs": [
        {
          "data": {
            "text/plain": [
              "array([[1, 1],\n",
              "       [2, 2],\n",
              "       [1, 2],\n",
              "       [0, 1],\n",
              "       [0, 0],\n",
              "       [2, 1]])"
            ]
          },
          "execution_count": 57,
          "metadata": {},
          "output_type": "execute_result"
        }
      ],
      "source": [
        "X_train"
      ]
    },
    {
      "cell_type": "code",
      "execution_count": null,
      "metadata": {},
      "outputs": [],
      "source": []
    },
    {
      "cell_type": "code",
      "execution_count": 65,
      "metadata": {},
      "outputs": [
        {
          "data": {
            "text/plain": [
              "6"
            ]
          },
          "execution_count": 65,
          "metadata": {},
          "output_type": "execute_result"
        }
      ],
      "source": [
        "y_train.shape[0]"
      ]
    },
    {
      "cell_type": "code",
      "execution_count": 62,
      "metadata": {},
      "outputs": [
        {
          "data": {
            "text/plain": [
              "array([0., 0., 0., 0., 0., 0.])"
            ]
          },
          "execution_count": 62,
          "metadata": {},
          "output_type": "execute_result"
        }
      ],
      "source": [
        "y_hat = np.zeros(y_train.shape)\n",
        "y_hat"
      ]
    },
    {
      "cell_type": "code",
      "execution_count": 71,
      "metadata": {},
      "outputs": [],
      "source": [
        "non_terminals = list(grammar_dic.keys())"
      ]
    },
    {
      "cell_type": "code",
      "execution_count": 73,
      "metadata": {},
      "outputs": [],
      "source": [
        "nt = '<start>'"
      ]
    },
    {
      "cell_type": "code",
      "execution_count": 74,
      "metadata": {},
      "outputs": [
        {
          "data": {
            "text/plain": [
              "0"
            ]
          },
          "execution_count": 74,
          "metadata": {},
          "output_type": "execute_result"
        }
      ],
      "source": [
        "non_terminals.index(nt)"
      ]
    },
    {
      "cell_type": "code",
      "execution_count": 58,
      "metadata": {},
      "outputs": [
        {
          "data": {
            "text/plain": [
              "array([[0, 0],\n",
              "       [0, 0],\n",
              "       [0, 0],\n",
              "       [0, 0],\n",
              "       [0, 0],\n",
              "       [0, 0]])"
            ]
          },
          "execution_count": 58,
          "metadata": {},
          "output_type": "execute_result"
        }
      ],
      "source": [
        "def evaluate(x):\n",
        "    return 0\n",
        "X_train = np.array([[1, 1], [2, 2], [1, 2], [0, 1], [0, 0], [2, 1]])\n",
        "eval_result = np.vectorize(evaluate)(X_train)\n",
        "eval_result"
      ]
    },
    {
      "cell_type": "code",
      "execution_count": 56,
      "metadata": {},
      "outputs": [
        {
          "ename": "IndexError",
          "evalue": "invalid index to scalar variable.",
          "output_type": "error",
          "traceback": [
            "\u001b[0;31m---------------------------------------------------------------------------\u001b[0m",
            "\u001b[0;31mIndexError\u001b[0m                                Traceback (most recent call last)",
            "Cell \u001b[0;32mIn[56], line 13\u001b[0m\n\u001b[1;32m      8\u001b[0m \u001b[39m# Example usage\u001b[39;00m\n\u001b[1;32m      9\u001b[0m matrix \u001b[39m=\u001b[39m np\u001b[39m.\u001b[39marray([[\u001b[39m1\u001b[39m, \u001b[39m2\u001b[39m, \u001b[39m3\u001b[39m],\n\u001b[1;32m     10\u001b[0m                    [\u001b[39m4\u001b[39m, \u001b[39m5\u001b[39m, \u001b[39m6\u001b[39m],\n\u001b[1;32m     11\u001b[0m                    [\u001b[39m7\u001b[39m, \u001b[39m8\u001b[39m, \u001b[39m9\u001b[39m]])\n\u001b[0;32m---> 13\u001b[0m result \u001b[39m=\u001b[39m vectorized_sum(matrix)\n\u001b[1;32m     14\u001b[0m \u001b[39mprint\u001b[39m(\u001b[39m\"\u001b[39m\u001b[39mResult:\u001b[39m\u001b[39m\\n\u001b[39;00m\u001b[39m\"\u001b[39m, result)\n",
            "File \u001b[0;32m~/dev/ufmg/computacao_natural/env/lib/python3.10/site-packages/numpy/lib/function_base.py:2329\u001b[0m, in \u001b[0;36mvectorize.__call__\u001b[0;34m(self, *args, **kwargs)\u001b[0m\n\u001b[1;32m   2326\u001b[0m     vargs \u001b[39m=\u001b[39m [args[_i] \u001b[39mfor\u001b[39;00m _i \u001b[39min\u001b[39;00m inds]\n\u001b[1;32m   2327\u001b[0m     vargs\u001b[39m.\u001b[39mextend([kwargs[_n] \u001b[39mfor\u001b[39;00m _n \u001b[39min\u001b[39;00m names])\n\u001b[0;32m-> 2329\u001b[0m \u001b[39mreturn\u001b[39;00m \u001b[39mself\u001b[39;49m\u001b[39m.\u001b[39;49m_vectorize_call(func\u001b[39m=\u001b[39;49mfunc, args\u001b[39m=\u001b[39;49mvargs)\n",
            "File \u001b[0;32m~/dev/ufmg/computacao_natural/env/lib/python3.10/site-packages/numpy/lib/function_base.py:2407\u001b[0m, in \u001b[0;36mvectorize._vectorize_call\u001b[0;34m(self, func, args)\u001b[0m\n\u001b[1;32m   2405\u001b[0m     res \u001b[39m=\u001b[39m func()\n\u001b[1;32m   2406\u001b[0m \u001b[39melse\u001b[39;00m:\n\u001b[0;32m-> 2407\u001b[0m     ufunc, otypes \u001b[39m=\u001b[39m \u001b[39mself\u001b[39;49m\u001b[39m.\u001b[39;49m_get_ufunc_and_otypes(func\u001b[39m=\u001b[39;49mfunc, args\u001b[39m=\u001b[39;49margs)\n\u001b[1;32m   2409\u001b[0m     \u001b[39m# Convert args to object arrays first\u001b[39;00m\n\u001b[1;32m   2410\u001b[0m     inputs \u001b[39m=\u001b[39m [asanyarray(a, dtype\u001b[39m=\u001b[39m\u001b[39mobject\u001b[39m) \u001b[39mfor\u001b[39;00m a \u001b[39min\u001b[39;00m args]\n",
            "File \u001b[0;32m~/dev/ufmg/computacao_natural/env/lib/python3.10/site-packages/numpy/lib/function_base.py:2367\u001b[0m, in \u001b[0;36mvectorize._get_ufunc_and_otypes\u001b[0;34m(self, func, args)\u001b[0m\n\u001b[1;32m   2363\u001b[0m     \u001b[39mraise\u001b[39;00m \u001b[39mValueError\u001b[39;00m(\u001b[39m'\u001b[39m\u001b[39mcannot call `vectorize` on size 0 inputs \u001b[39m\u001b[39m'\u001b[39m\n\u001b[1;32m   2364\u001b[0m                      \u001b[39m'\u001b[39m\u001b[39munless `otypes` is set\u001b[39m\u001b[39m'\u001b[39m)\n\u001b[1;32m   2366\u001b[0m inputs \u001b[39m=\u001b[39m [arg\u001b[39m.\u001b[39mflat[\u001b[39m0\u001b[39m] \u001b[39mfor\u001b[39;00m arg \u001b[39min\u001b[39;00m args]\n\u001b[0;32m-> 2367\u001b[0m outputs \u001b[39m=\u001b[39m func(\u001b[39m*\u001b[39;49minputs)\n\u001b[1;32m   2369\u001b[0m \u001b[39m# Performance note: profiling indicates that -- for simple\u001b[39;00m\n\u001b[1;32m   2370\u001b[0m \u001b[39m# functions at least -- this wrapping can almost double the\u001b[39;00m\n\u001b[1;32m   2371\u001b[0m \u001b[39m# execution time.\u001b[39;00m\n\u001b[1;32m   2372\u001b[0m \u001b[39m# Hence we make it optional.\u001b[39;00m\n\u001b[1;32m   2373\u001b[0m \u001b[39mif\u001b[39;00m \u001b[39mself\u001b[39m\u001b[39m.\u001b[39mcache:\n",
            "Cell \u001b[0;32mIn[56], line 4\u001b[0m, in \u001b[0;36mmy_sum\u001b[0;34m(x)\u001b[0m\n\u001b[1;32m      3\u001b[0m \u001b[39mdef\u001b[39;00m \u001b[39mmy_sum\u001b[39m(x):\n\u001b[0;32m----> 4\u001b[0m     \u001b[39mreturn\u001b[39;00m x[\u001b[39m0\u001b[39;49m] \u001b[39m+\u001b[39m x[\u001b[39m1\u001b[39m]\n",
            "\u001b[0;31mIndexError\u001b[0m: invalid index to scalar variable."
          ]
        }
      ],
      "source": [
        "import numpy as np\n",
        "\n",
        "def my_sum(x):\n",
        "    return x[0] + x[1]\n",
        "\n",
        "vectorized_sum = np.vectorize(my_sum)\n",
        "\n",
        "# Example usage\n",
        "matrix = np.array([[1, 2, 3],\n",
        "                   [4, 5, 6],\n",
        "                   [7, 8, 9]])\n",
        "\n",
        "result = vectorized_sum(matrix)\n",
        "print(\"Result:\\n\", result)"
      ]
    },
    {
      "cell_type": "code",
      "execution_count": 25,
      "metadata": {},
      "outputs": [
        {
          "ename": "TypeError",
          "evalue": "'str' object is not callable",
          "output_type": "error",
          "traceback": [
            "\u001b[0;31m---------------------------------------------------------------------------\u001b[0m",
            "\u001b[0;31mTypeError\u001b[0m                                 Traceback (most recent call last)",
            "Cell \u001b[0;32mIn[25], line 1\u001b[0m\n\u001b[0;32m----> 1\u001b[0m {\u001b[39m\"\u001b[39;49m\u001b[39mphen\u001b[39;49m\u001b[39m\"\u001b[39;49m: phen}[\u001b[39m\"\u001b[39;49m\u001b[39mphen\u001b[39;49m\u001b[39m\"\u001b[39;49m](X_train)\n",
            "\u001b[0;31mTypeError\u001b[0m: 'str' object is not callable"
          ]
        }
      ],
      "source": [
        "{\"phen\": phen}[\"phen\"](X_train)"
      ]
    },
    {
      "cell_type": "code",
      "execution_count": 20,
      "metadata": {},
      "outputs": [
        {
          "ename": "ZeroDivisionError",
          "evalue": "float division by zero",
          "output_type": "error",
          "traceback": [
            "\u001b[0;31m---------------------------------------------------------------------------\u001b[0m",
            "\u001b[0;31mZeroDivisionError\u001b[0m                         Traceback (most recent call last)",
            "Cell \u001b[0;32mIn[20], line 1\u001b[0m\n\u001b[0;32m----> 1\u001b[0m \u001b[39meval\u001b[39;49m(phen, \u001b[39mglobals\u001b[39;49m(), {\u001b[39m\"\u001b[39;49m\u001b[39mx\u001b[39;49m\u001b[39m\"\u001b[39;49m: fit_case[:\u001b[39m-\u001b[39;49m\u001b[39m1\u001b[39;49m]})\n",
            "File \u001b[0;32m<string>:1\u001b[0m\n",
            "\u001b[0;31mZeroDivisionError\u001b[0m: float division by zero"
          ]
        }
      ],
      "source": [
        "eval(phen, globals(), {\"x\": fit_case[:-1]})"
      ]
    },
    {
      "cell_type": "code",
      "execution_count": 4,
      "metadata": {},
      "outputs": [],
      "source": [
        "%load_ext autoreload\n",
        "%autoreload 2"
      ]
    },
    {
      "cell_type": "code",
      "execution_count": 94,
      "metadata": {},
      "outputs": [
        {
          "data": {
            "text/plain": [
              "array([45,  6, 32,  0,  8, 24,  0, 14,  0,  9, 54,  0,  1,  0, 21, 36, 12,\n",
              "       18,  6, 18, 21,  8,  0,  2,  7, 30,  0, 45,  0, 20,  0,  0,  4,  4,\n",
              "        8,  0, 10, 56,  0,  9, 48, 24, 28, 48, 64,  0, 72, 45, 32,  0, 21,\n",
              "        9,  0, 12,  0,  1,  9,  0, 56, 27, 81, 56, 10, 40, 35, 45,  4,  8,\n",
              "       40, 48,  4, 28,  0, 16,  9, 81, 14,  0, 35, 42, 18, 27,  7, 45, 24,\n",
              "       27,  9, 20, 18, 16,  0,  0,  7,  9,  8,  4, 35,  0, 24,  0])"
            ]
          },
          "execution_count": 94,
          "metadata": {},
          "output_type": "execute_result"
        }
      ],
      "source": [
        "np.multiply(X_train[:,0], X_train[:,1])"
      ]
    },
    {
      "cell_type": "code",
      "execution_count": 92,
      "metadata": {},
      "outputs": [
        {
          "data": {
            "text/plain": [
              "array([9, 2, 4, 5, 1, 6, 0, 2, 1, 1, 6, 0, 1, 0, 3, 9, 6, 2, 1, 3, 3, 2,\n",
              "       2, 2, 7, 5, 0, 9, 0, 5, 8, 4, 2, 4, 2, 0, 5, 8, 1, 9, 8, 8, 4, 8,\n",
              "       8, 0, 8, 9, 4, 6, 3, 3, 1, 6, 0, 1, 9, 0, 8, 3, 9, 7, 5, 5, 5, 5,\n",
              "       4, 2, 5, 6, 2, 7, 4, 2, 9, 9, 2, 0, 5, 7, 2, 9, 1, 9, 8, 9, 3, 5,\n",
              "       6, 4, 0, 0, 7, 1, 8, 2, 5, 0, 3, 0])"
            ]
          },
          "execution_count": 92,
          "metadata": {},
          "output_type": "execute_result"
        }
      ],
      "source": [
        "X_train[:,0]"
      ]
    },
    {
      "cell_type": "code",
      "execution_count": 95,
      "metadata": {},
      "outputs": [
        {
          "data": {
            "text/plain": [
              "array([[ 8,  9, 72],\n",
              "       [ 0,  9,  0],\n",
              "       [ 3,  8, 24],\n",
              "       [ 9,  7, 63],\n",
              "       [ 3,  9, 27],\n",
              "       [ 0,  8,  0],\n",
              "       [ 1,  4,  4],\n",
              "       [ 3,  3,  9],\n",
              "       [ 8,  5, 40],\n",
              "       [ 2,  3,  6],\n",
              "       [ 3,  9, 27],\n",
              "       [ 8,  9, 72],\n",
              "       [ 0,  7,  0],\n",
              "       [ 8,  3, 24],\n",
              "       [ 0,  2,  0],\n",
              "       [ 7,  5, 35],\n",
              "       [ 5,  0,  0],\n",
              "       [ 2,  0,  0],\n",
              "       [ 1,  4,  4],\n",
              "       [ 7,  2, 14],\n",
              "       [ 1,  3,  3],\n",
              "       [ 8,  2, 16],\n",
              "       [ 2,  9, 18],\n",
              "       [ 8,  5, 40],\n",
              "       [ 0,  8,  0],\n",
              "       [ 5,  4, 20],\n",
              "       [ 9,  9, 81],\n",
              "       [ 4,  9, 36],\n",
              "       [ 8,  2, 16],\n",
              "       [ 0,  6,  0],\n",
              "       [ 6,  1,  6],\n",
              "       [ 0,  3,  0],\n",
              "       [ 4,  5, 20],\n",
              "       [ 7,  3, 21],\n",
              "       [ 3,  6, 18],\n",
              "       [ 6,  0,  0],\n",
              "       [ 4,  7, 28],\n",
              "       [ 1,  7,  7],\n",
              "       [ 1,  3,  3],\n",
              "       [ 2,  3,  6],\n",
              "       [ 5,  1,  5],\n",
              "       [ 3,  4, 12],\n",
              "       [ 0,  8,  0],\n",
              "       [ 4,  0,  0],\n",
              "       [ 9,  4, 36],\n",
              "       [ 7,  9, 63],\n",
              "       [ 1,  1,  1],\n",
              "       [ 2,  4,  8],\n",
              "       [ 6,  6, 36],\n",
              "       [ 4,  9, 36],\n",
              "       [ 8,  0,  0],\n",
              "       [ 6,  2, 12],\n",
              "       [ 8,  8, 64],\n",
              "       [ 9,  4, 36],\n",
              "       [ 3,  6, 18],\n",
              "       [ 8,  5, 40],\n",
              "       [ 1,  2,  2],\n",
              "       [ 5,  8, 40],\n",
              "       [ 1,  0,  0],\n",
              "       [ 5,  5, 25],\n",
              "       [ 3,  7, 21],\n",
              "       [ 4,  5, 20],\n",
              "       [ 4,  5, 20],\n",
              "       [ 3,  2,  6],\n",
              "       [ 6,  9, 54],\n",
              "       [ 9,  3, 27],\n",
              "       [ 0,  9,  0],\n",
              "       [ 8,  6, 48],\n",
              "       [ 9,  6, 54],\n",
              "       [ 4,  2,  8],\n",
              "       [ 8,  1,  8],\n",
              "       [ 5,  3, 15],\n",
              "       [ 1,  8,  8],\n",
              "       [ 5,  1,  5],\n",
              "       [ 4,  5, 20],\n",
              "       [ 9,  5, 45],\n",
              "       [ 8,  5, 40],\n",
              "       [ 1,  8,  8],\n",
              "       [ 4,  0,  0],\n",
              "       [ 3,  5, 15],\n",
              "       [ 4,  6, 24],\n",
              "       [ 2,  8, 16],\n",
              "       [ 9,  6, 54],\n",
              "       [ 8,  1,  8],\n",
              "       [ 5,  7, 35],\n",
              "       [ 0,  1,  0],\n",
              "       [ 1,  2,  2],\n",
              "       [ 1,  3,  3],\n",
              "       [ 4,  4, 16],\n",
              "       [ 4,  1,  4],\n",
              "       [ 3,  6, 18],\n",
              "       [ 7,  4, 28],\n",
              "       [ 0,  6,  0],\n",
              "       [ 8,  6, 48],\n",
              "       [ 2,  5, 10],\n",
              "       [ 2,  1,  2],\n",
              "       [ 3,  0,  0],\n",
              "       [ 7,  1,  7],\n",
              "       [ 9,  6, 54],\n",
              "       [ 0,  6,  0]])"
            ]
          },
          "execution_count": 95,
          "metadata": {},
          "output_type": "execute_result"
        }
      ],
      "source": [
        "X_train = np.random.randint(low=0, high=10, size=(100, 2))\n",
        "y_train = np.reshape(np.multiply(X_train[:,0], X_train[:,1]), (100,1))\n",
        "np.column_stack((X_train, y_train))"
      ]
    },
    {
      "cell_type": "code",
      "execution_count": 1,
      "metadata": {},
      "outputs": [
        {
          "name": "stdout",
          "output_type": "stream",
          "text": [
            "Starting evolution...\n",
            "Generation: \n",
            "0 1 2 3 4 5 6 7 8 9 10 11 12 13 14 15 16 17 18 19 20 21 22 23 24 25 26 27 28 29 30 100.0%\n"
          ]
        },
        {
          "data": {
            "text/plain": [
              "\"\\ndatasets = load_data()\\nX_train = datasets['synth1-train'][:, :2]\\ny_train = datasets['synth1-train'][:, 2]\\n\\nX_test = datasets['synth1-test'][:, :2]\\ny_test = datasets['synth1-test'][:, 2]\\n\\nsolver.fit(X_train, y_train)\\nsolver.predict(X_test)\\nsolver.score(y_test)\\n\\n\\nsolver.print_predicted_expression()\\nprint(solver.best_fitness())\\nprint(solver.worst_fitness())\\n\""
            ]
          },
          "execution_count": 1,
          "metadata": {},
          "output_type": "execute_result"
        }
      ],
      "source": [
        "import numpy as np\n",
        "import srs\n",
        "\n",
        "# Load the datasets\n",
        "def load_data():\n",
        "    import os\n",
        "    \n",
        "    # Find all CSV files in the datasets folders\n",
        "    csv_files = []\n",
        "    for root, dirs, files in os.walk(\"datasets\"):\n",
        "        for file in files:\n",
        "            if file.endswith(\".csv\"):\n",
        "                csv_files.append(os.path.join(root, file))\n",
        "\n",
        "    # Load the CSV files as numpy matrices\n",
        "    datasets = {}\n",
        "    for file in csv_files:\n",
        "        matrix = np.genfromtxt(file, delimiter=\",\")\n",
        "        file_name = os.path.basename(file).split('.')[0]\n",
        "        datasets[file_name] = matrix\n",
        "\n",
        "    return datasets\n",
        "\n",
        "solver = srs.SymbolicRegressionSolver()\n",
        "X_train = np.random.randint(low=0, high=10, size=(100, 2))\n",
        "y_train = np.reshape(np.multiply(X_train[:,0], X_train[:,1]), (100,1))\n",
        "\n",
        "X_test = np.array([[1, 0], [100, 2], [300, 3], [13, 1], [87, 13]])\n",
        "y_test = np.array([0, 200, 900, 13, 1131])\n",
        "\n",
        "solver.fit(X_train, y_train)\n",
        "predicted = solver.predict(X_test)\n",
        "\n",
        "score = solver.score(y_test, predicted)\n",
        "print(str(score*100) + '%')\n",
        "\n",
        "# Testing\n",
        "\"\"\"\n",
        "datasets = load_data()\n",
        "X_train = datasets['synth1-train'][:, :2]\n",
        "y_train = datasets['synth1-train'][:, 2]\n",
        "\n",
        "X_test = datasets['synth1-test'][:, :2]\n",
        "y_test = datasets['synth1-test'][:, 2]\n",
        "\n",
        "solver.fit(X_train, y_train)\n",
        "solver.predict(X_test)\n",
        "solver.score(y_test)\n",
        "\n",
        "\n",
        "solver.print_predicted_expression()\n",
        "print(solver.best_fitness())\n",
        "print(solver.worst_fitness())\n",
        "\"\"\""
      ]
    },
    {
      "cell_type": "code",
      "execution_count": 104,
      "metadata": {},
      "outputs": [
        {
          "name": "stdout",
          "output_type": "stream",
          "text": [
            "Phenotype 1:\n",
            "   | Fitness:  33.14288522724303 \n",
            "   | Y Prediction:  [-1.25       -1.24439226 -1.23881935 -1.23328172 -1.22777984]\n",
            "Phenotype 2:\n",
            "   | Fitness:  22.477572022018308 \n",
            "   | Y Prediction:  [-6.   -5.98 -5.96 -5.94 -5.92]\n",
            "Phenotype 3:\n",
            "   | Fitness:  22.838040664669215 \n",
            "   | Y Prediction:  [0. 0. 0. 0. 0.]\n"
          ]
        }
      ],
      "source": [
        "print(\"Phenotype 1:\\n\", \"  | Fitness: \",solver.evolutionary_alg.Xy_evaluate(phen1, X_train, y_train), \"\\n   | Y Prediction: \", solver.predict(X_test[:5], custom_phenotype=phen1))\n",
        "print(\"Phenotype 2:\\n\", \"  | Fitness: \",solver.evolutionary_alg.Xy_evaluate(phen2, X_train, y_train), \"\\n   | Y Prediction: \", solver.predict(X_test[:5], custom_phenotype=phen2))\n",
        "print(\"Phenotype 3:\\n\", \"  | Fitness: \",solver.evolutionary_alg.Xy_evaluate(phen3, X_train, y_train), \"\\n   | Y Prediction: \", solver.predict(X_test[:5], custom_phenotype=phen3))\n"
      ]
    },
    {
      "cell_type": "code",
      "execution_count": 6,
      "metadata": {},
      "outputs": [
        {
          "name": "stderr",
          "output_type": "stream",
          "text": [
            "<string>:1: RuntimeWarning: invalid value encountered in scalar power\n",
            "<string>:1: RuntimeWarning: divide by zero encountered in scalar power\n",
            "<string>:1: RuntimeWarning: overflow encountered in scalar power\n"
          ]
        },
        {
          "name": "stdout",
          "output_type": "stream",
          "text": [
            "Starting evolution...\n",
            "Generation: \n",
            "0 1 2 3 4 5 6 7 8 9 10 11 12 13 14 15 16 17 18 19 20 "
          ]
        },
        {
          "name": "stderr",
          "output_type": "stream",
          "text": [
            "/home/fall/dev/ufmg/computacao_natural/srs/evolutionary.py:132: RuntimeWarning: overflow encountered in scalar power\n",
            "  error[i] = (y[i] - result)**2\n"
          ]
        },
        {
          "name": "stdout",
          "output_type": "stream",
          "text": [
            "21 22 23 24 25 26 27 28 29 30 "
          ]
        }
      ],
      "source": [
        "import numpy as np\n",
        "import srs\n",
        "\n",
        "# Load the datasets\n",
        "def load_data():\n",
        "    import os\n",
        "    \n",
        "    # Find all CSV files in the datasets folders\n",
        "    csv_files = []\n",
        "    for root, dirs, files in os.walk(\"datasets\"):\n",
        "        for file in files:\n",
        "            if file.endswith(\".csv\"):\n",
        "                csv_files.append(os.path.join(root, file))\n",
        "\n",
        "    # Load the CSV files as numpy matrices\n",
        "    datasets = {}\n",
        "    for file in csv_files:\n",
        "        matrix = np.genfromtxt(file, delimiter=\",\")\n",
        "        file_name = os.path.basename(file).split('.')[0]\n",
        "        datasets[file_name] = matrix\n",
        "\n",
        "    return datasets\n",
        "\n",
        "solver = srs.SymbolicRegressionSolver()\n",
        "\n",
        "datasets = load_data()\n",
        "X_train = datasets['synth1-train'][:, :2]\n",
        "y_train = datasets['synth1-train'][:, 2]\n",
        "\n",
        "X_test = datasets['synth1-test'][:, :2]\n",
        "y_test = datasets['synth1-test'][:, 2]\n",
        "\n",
        "solver.fit(X_train, y_train, 'synth1')\n",
        "y_hat = solver.predict(X_test)\n",
        "score = solver.score(y_test, y_hat)\n",
        "score_str = str(score * 100) + '%'\n",
        "\n"
      ]
    },
    {
      "cell_type": "code",
      "execution_count": 7,
      "metadata": {},
      "outputs": [
        {
          "data": {
            "text/plain": [
              "'0.0%'"
            ]
          },
          "execution_count": 7,
          "metadata": {},
          "output_type": "execute_result"
        }
      ],
      "source": [
        "score_str"
      ]
    },
    {
      "cell_type": "code",
      "execution_count": 2,
      "metadata": {},
      "outputs": [
        {
          "data": {
            "text/plain": [
              "[3696.1998618771836,\n",
              " 2055.910733993938,\n",
              " 79.92138850804547,\n",
              " 319.71022363806276,\n",
              " 267.8256141886003,\n",
              " 3458764513820559.5,\n",
              " 29.403928046163927,\n",
              " 547.5255990923079,\n",
              " 9.562502886047943,\n",
              " 10542.643964796089,\n",
              " 19274.442968932843,\n",
              " 5.405889882754066,\n",
              " 9.384702597316325,\n",
              " 10.334657676669304,\n",
              " 8.91858954866347,\n",
              " 4048.3656029858894,\n",
              " 4.2262122392901365,\n",
              " 7.08375569491204,\n",
              " 21.9497772080152,\n",
              " 15.937588680257745,\n",
              " 16.601580904742203,\n",
              " 4.9743250170770095,\n",
              " 20.035816801417486,\n",
              " 4.01317937404191,\n",
              " 1466.1741672603655,\n",
              " 2.7294262949751142,\n",
              " 6.511012703763762,\n",
              " 4.517378474985485,\n",
              " 21.41190942624552,\n",
              " 3.4962898829181936,\n",
              " 3.3598970385241786]"
            ]
          },
          "execution_count": 2,
          "metadata": {},
          "output_type": "execute_result"
        }
      ],
      "source": [
        "solver.get_best_param_per_generation('avg')"
      ]
    },
    {
      "cell_type": "code",
      "execution_count": 4,
      "metadata": {},
      "outputs": [
        {
          "data": {
            "image/png": "[encoded data removed]",
            "text/plain": [
              "<Figure size 640x480 with 1 Axes>"
            ]
          },
          "metadata": {},
          "output_type": "display_data"
        }
      ],
      "source": [
        "# Data per generation\n",
        "best_fitness = solver.get_best_param_per_generation('best_all_fitness')\n",
        "best_curr_fitness = solver.get_best_param_per_generation('best_curr_fitness')\n",
        "worst_fitness = solver.get_best_param_per_generation('worst_all_fitness')\n",
        "avg_fitness = solver.get_best_param_per_generation('avg')\n",
        "\n",
        "# Plotting th Best (green), Worst (red) and Average (blue) fitness per generation with labels\n",
        "# But cap it at fitness=100\n",
        "import matplotlib.pyplot as plt\n",
        "\n",
        "plt.plot(best_fitness, label='Best Fitness')\n",
        "plt.plot(worst_fitness, label='Worst Fitness')\n",
        "plt.plot(avg_fitness, label='Average Fitness')\n",
        "plt.xlabel('Generation')\n",
        "plt.ylabel('Fitness')\n",
        "plt.title('Fitness per Generation')\n",
        "\n",
        "# max y value is 100\n",
        "axes = plt.gca()\n",
        "axes.set_ylim([0,100])\n",
        "\n",
        "plt.legend()\n",
        "plt.show()"
      ]
    }
  ],
  "metadata": {
    "colab": {
      "provenance": []
    },
    "kernelspec": {
      "display_name": "Python 3",
      "name": "python3"
    },
    "language_info": {
      "codemirror_mode": {
        "name": "ipython",
        "version": 3
      },
      "file_extension": ".py",
      "mimetype": "text/x-python",
      "name": "python",
      "nbconvert_exporter": "python",
      "pygments_lexer": "ipython3",
      "version": "3.10.6"
    }
  },
  "nbformat": 4,
  "nbformat_minor": 0
}
